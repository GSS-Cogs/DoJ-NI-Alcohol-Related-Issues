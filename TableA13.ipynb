{
 "cells": [
  {
   "cell_type": "markdown",
   "metadata": {},
   "source": [
    "Table A13: Confidence in work to tackle alcohol and/or drug related issues in Northern Ireland"
   ]
  },
  {
   "cell_type": "code",
   "execution_count": 1,
   "metadata": {
    "collapsed": true
   },
   "outputs": [],
   "source": [
    "from databaker.framework import *\n",
    "import pandas as pd "
   ]
  },
  {
   "cell_type": "code",
   "execution_count": 2,
   "metadata": {
    "collapsed": true
   },
   "outputs": [],
   "source": [
    "import requests\n",
    "from cachecontrol import CacheControl\n",
    "from cachecontrol.caches.file_cache import FileCache\n",
    "from cachecontrol.heuristics import LastModified\n",
    "from pathlib import Path\n",
    "\n",
    "session = CacheControl(requests.Session(),\n",
    "                       cache=FileCache('.cache'),\n",
    "                       heuristic=LastModified())\n",
    "\n",
    "sourceFolder = Path('in')\n",
    "sourceFolder.mkdir(exist_ok=True)\n",
    "\n",
    "inputURL = 'https://www.justice-ni.gov.uk/sites/default/files/publications/justice/ni-omnibus-survey-oct-2016-alcohol-drugs-tabular.xlsx'\n",
    "inputFile = sourceFolder / 'ni-omnibus-survey-oct-2016-alcohol-drugs-tabular.xlsx'\n",
    "Value = session.get(inputURL)\n",
    "with open(inputFile, 'wb') as f:\n",
    "  f.write(Value.content)"
   ]
  },
  {
   "cell_type": "markdown",
   "metadata": {},
   "source": [
    "https://www.justice-ni.gov.uk/sites/default/files/publications/justice/ni-omnibus-survey-oct-2016-alcohol-drugs-tabular.xlsx"
   ]
  },
  {
   "cell_type": "code",
   "execution_count": 3,
   "metadata": {},
   "outputs": [
    {
     "name": "stdout",
     "output_type": "stream",
     "text": [
      "Loading in\\ni-omnibus-survey-oct-2016-alcohol-drugs-tabular.xlsx which has size 191159 bytes\n",
      "Table names: ['Table A13']\n"
     ]
    }
   ],
   "source": [
    "tab = loadxlstabs(inputFile, sheetids='Table A13')[0]"
   ]
  },
  {
   "cell_type": "code",
   "execution_count": 4,
   "metadata": {
    "collapsed": true
   },
   "outputs": [],
   "source": [
    "observations = tab.excel_ref('B5').expand(DOWN).expand(RIGHT).is_not_blank()"
   ]
  },
  {
   "cell_type": "code",
   "execution_count": 5,
   "metadata": {
    "scrolled": true
   },
   "outputs": [
    {
     "data": {
      "text/plain": [
       "{<E12 786.0>, <C10 0.441>, <C9 0.499>, <C12 0.343>, <C11 0.497>, <B10 0.113>, <E9 924.0>, <B11 0.177>, <D5 0.472>, <B9 0.259>, <E5 917.0>, <B5 0.094>, <E10 887.0>, <D8 0.422>, <E8 914.0>, <B12 0.074>, <C5 0.434>, <C8 0.461>, <E11 823.0>, <D9 0.241>, <D10 0.446>, <B8 0.118>, <D11 0.326>, <D12 0.583>}"
      ]
     },
     "execution_count": 5,
     "metadata": {},
     "output_type": "execute_result"
    }
   ],
   "source": [
    "observations"
   ]
  },
  {
   "cell_type": "code",
   "execution_count": 6,
   "metadata": {
    "scrolled": true
   },
   "outputs": [
    {
     "data": {
      "text/plain": [
       "{<D3 'Little or no confidence'>, <B3 'Total or a lot of confidence'>, <C3 'Some confidence'>, <E3 'Unweighted base'>}"
      ]
     },
     "execution_count": 6,
     "metadata": {},
     "output_type": "execute_result"
    }
   ],
   "source": [
    "Confidenceinwork = tab.excel_ref('B3').expand(RIGHT).is_not_blank()\n",
    "Confidenceinwork"
   ]
  },
  {
   "cell_type": "code",
   "execution_count": 7,
   "metadata": {},
   "outputs": [
    {
     "data": {
      "text/plain": [
       "{<A12 'NIHE / HA'>, <A9 'PSNI'>, <A5 'Overall'>, <A10 'Local Council'>, <A15 'Source: Northern Ireland Omnibus Survey, October 2016'>, <A11 'PCSP'>, <A16 '1. Results exclude \"don\\'t know\" and refusals.'>, <A8 'Gvt Depts'>}"
      ]
     },
     "execution_count": 7,
     "metadata": {},
     "output_type": "execute_result"
    }
   ],
   "source": [
    "publicbody = tab.excel_ref('A5').expand(DOWN).is_not_blank()\n",
    "publicbody"
   ]
  },
  {
   "cell_type": "code",
   "execution_count": 8,
   "metadata": {
    "collapsed": true
   },
   "outputs": [],
   "source": [
    "Dimensions = [\n",
    "            HDim(Confidenceinwork,'Alcohol related issue response',DIRECTLY,ABOVE),\n",
    "            HDim(publicbody,'Representatives',DIRECTLY,LEFT),\n",
    "            HDimConst('Measure Type', 'Percent'),\n",
    "            HDimConst('Unit','People'),\n",
    "            ]"
   ]
  },
  {
   "cell_type": "code",
   "execution_count": 9,
   "metadata": {
    "collapsed": true
   },
   "outputs": [],
   "source": [
    "c1 = ConversionSegment(observations, Dimensions, processTIMEUNIT=True)\n",
    "# savepreviewhtml(c1)"
   ]
  },
  {
   "cell_type": "code",
   "execution_count": 10,
   "metadata": {},
   "outputs": [
    {
     "name": "stdout",
     "output_type": "stream",
     "text": [
      "\n"
     ]
    },
    {
     "data": {
      "text/html": [
       "<div>\n",
       "<style scoped>\n",
       "    .dataframe tbody tr th:only-of-type {\n",
       "        vertical-align: middle;\n",
       "    }\n",
       "\n",
       "    .dataframe tbody tr th {\n",
       "        vertical-align: top;\n",
       "    }\n",
       "\n",
       "    .dataframe thead th {\n",
       "        text-align: right;\n",
       "    }\n",
       "</style>\n",
       "<table border=\"1\" class=\"dataframe\">\n",
       "  <thead>\n",
       "    <tr style=\"text-align: right;\">\n",
       "      <th></th>\n",
       "      <th>OBS</th>\n",
       "      <th>Alcohol related issue response</th>\n",
       "      <th>Representatives</th>\n",
       "      <th>Measure Type</th>\n",
       "      <th>Unit</th>\n",
       "    </tr>\n",
       "  </thead>\n",
       "  <tbody>\n",
       "    <tr>\n",
       "      <th>0</th>\n",
       "      <td>0.094</td>\n",
       "      <td>Total or a lot of confidence</td>\n",
       "      <td>Overall</td>\n",
       "      <td>Percent</td>\n",
       "      <td>People</td>\n",
       "    </tr>\n",
       "    <tr>\n",
       "      <th>1</th>\n",
       "      <td>0.434</td>\n",
       "      <td>Some confidence</td>\n",
       "      <td>Overall</td>\n",
       "      <td>Percent</td>\n",
       "      <td>People</td>\n",
       "    </tr>\n",
       "    <tr>\n",
       "      <th>2</th>\n",
       "      <td>0.472</td>\n",
       "      <td>Little or no confidence</td>\n",
       "      <td>Overall</td>\n",
       "      <td>Percent</td>\n",
       "      <td>People</td>\n",
       "    </tr>\n",
       "    <tr>\n",
       "      <th>3</th>\n",
       "      <td>917.000</td>\n",
       "      <td>Unweighted base</td>\n",
       "      <td>Overall</td>\n",
       "      <td>Percent</td>\n",
       "      <td>People</td>\n",
       "    </tr>\n",
       "    <tr>\n",
       "      <th>4</th>\n",
       "      <td>0.118</td>\n",
       "      <td>Total or a lot of confidence</td>\n",
       "      <td>Gvt Depts</td>\n",
       "      <td>Percent</td>\n",
       "      <td>People</td>\n",
       "    </tr>\n",
       "    <tr>\n",
       "      <th>5</th>\n",
       "      <td>0.461</td>\n",
       "      <td>Some confidence</td>\n",
       "      <td>Gvt Depts</td>\n",
       "      <td>Percent</td>\n",
       "      <td>People</td>\n",
       "    </tr>\n",
       "    <tr>\n",
       "      <th>6</th>\n",
       "      <td>0.422</td>\n",
       "      <td>Little or no confidence</td>\n",
       "      <td>Gvt Depts</td>\n",
       "      <td>Percent</td>\n",
       "      <td>People</td>\n",
       "    </tr>\n",
       "    <tr>\n",
       "      <th>7</th>\n",
       "      <td>914.000</td>\n",
       "      <td>Unweighted base</td>\n",
       "      <td>Gvt Depts</td>\n",
       "      <td>Percent</td>\n",
       "      <td>People</td>\n",
       "    </tr>\n",
       "    <tr>\n",
       "      <th>8</th>\n",
       "      <td>0.259</td>\n",
       "      <td>Total or a lot of confidence</td>\n",
       "      <td>PSNI</td>\n",
       "      <td>Percent</td>\n",
       "      <td>People</td>\n",
       "    </tr>\n",
       "    <tr>\n",
       "      <th>9</th>\n",
       "      <td>0.499</td>\n",
       "      <td>Some confidence</td>\n",
       "      <td>PSNI</td>\n",
       "      <td>Percent</td>\n",
       "      <td>People</td>\n",
       "    </tr>\n",
       "    <tr>\n",
       "      <th>10</th>\n",
       "      <td>0.241</td>\n",
       "      <td>Little or no confidence</td>\n",
       "      <td>PSNI</td>\n",
       "      <td>Percent</td>\n",
       "      <td>People</td>\n",
       "    </tr>\n",
       "    <tr>\n",
       "      <th>11</th>\n",
       "      <td>924.000</td>\n",
       "      <td>Unweighted base</td>\n",
       "      <td>PSNI</td>\n",
       "      <td>Percent</td>\n",
       "      <td>People</td>\n",
       "    </tr>\n",
       "    <tr>\n",
       "      <th>12</th>\n",
       "      <td>0.113</td>\n",
       "      <td>Total or a lot of confidence</td>\n",
       "      <td>Local Council</td>\n",
       "      <td>Percent</td>\n",
       "      <td>People</td>\n",
       "    </tr>\n",
       "    <tr>\n",
       "      <th>13</th>\n",
       "      <td>0.441</td>\n",
       "      <td>Some confidence</td>\n",
       "      <td>Local Council</td>\n",
       "      <td>Percent</td>\n",
       "      <td>People</td>\n",
       "    </tr>\n",
       "    <tr>\n",
       "      <th>14</th>\n",
       "      <td>0.446</td>\n",
       "      <td>Little or no confidence</td>\n",
       "      <td>Local Council</td>\n",
       "      <td>Percent</td>\n",
       "      <td>People</td>\n",
       "    </tr>\n",
       "    <tr>\n",
       "      <th>15</th>\n",
       "      <td>887.000</td>\n",
       "      <td>Unweighted base</td>\n",
       "      <td>Local Council</td>\n",
       "      <td>Percent</td>\n",
       "      <td>People</td>\n",
       "    </tr>\n",
       "    <tr>\n",
       "      <th>16</th>\n",
       "      <td>0.177</td>\n",
       "      <td>Total or a lot of confidence</td>\n",
       "      <td>PCSP</td>\n",
       "      <td>Percent</td>\n",
       "      <td>People</td>\n",
       "    </tr>\n",
       "    <tr>\n",
       "      <th>17</th>\n",
       "      <td>0.497</td>\n",
       "      <td>Some confidence</td>\n",
       "      <td>PCSP</td>\n",
       "      <td>Percent</td>\n",
       "      <td>People</td>\n",
       "    </tr>\n",
       "    <tr>\n",
       "      <th>18</th>\n",
       "      <td>0.326</td>\n",
       "      <td>Little or no confidence</td>\n",
       "      <td>PCSP</td>\n",
       "      <td>Percent</td>\n",
       "      <td>People</td>\n",
       "    </tr>\n",
       "    <tr>\n",
       "      <th>19</th>\n",
       "      <td>823.000</td>\n",
       "      <td>Unweighted base</td>\n",
       "      <td>PCSP</td>\n",
       "      <td>Percent</td>\n",
       "      <td>People</td>\n",
       "    </tr>\n",
       "    <tr>\n",
       "      <th>20</th>\n",
       "      <td>0.074</td>\n",
       "      <td>Total or a lot of confidence</td>\n",
       "      <td>NIHE / HA</td>\n",
       "      <td>Percent</td>\n",
       "      <td>People</td>\n",
       "    </tr>\n",
       "    <tr>\n",
       "      <th>21</th>\n",
       "      <td>0.343</td>\n",
       "      <td>Some confidence</td>\n",
       "      <td>NIHE / HA</td>\n",
       "      <td>Percent</td>\n",
       "      <td>People</td>\n",
       "    </tr>\n",
       "    <tr>\n",
       "      <th>22</th>\n",
       "      <td>0.583</td>\n",
       "      <td>Little or no confidence</td>\n",
       "      <td>NIHE / HA</td>\n",
       "      <td>Percent</td>\n",
       "      <td>People</td>\n",
       "    </tr>\n",
       "    <tr>\n",
       "      <th>23</th>\n",
       "      <td>786.000</td>\n",
       "      <td>Unweighted base</td>\n",
       "      <td>NIHE / HA</td>\n",
       "      <td>Percent</td>\n",
       "      <td>People</td>\n",
       "    </tr>\n",
       "  </tbody>\n",
       "</table>\n",
       "</div>"
      ],
      "text/plain": [
       "        OBS Alcohol related issue response Representatives Measure Type  \\\n",
       "0     0.094   Total or a lot of confidence         Overall      Percent   \n",
       "1     0.434                Some confidence         Overall      Percent   \n",
       "2     0.472        Little or no confidence         Overall      Percent   \n",
       "3   917.000                Unweighted base         Overall      Percent   \n",
       "4     0.118   Total or a lot of confidence       Gvt Depts      Percent   \n",
       "5     0.461                Some confidence       Gvt Depts      Percent   \n",
       "6     0.422        Little or no confidence       Gvt Depts      Percent   \n",
       "7   914.000                Unweighted base       Gvt Depts      Percent   \n",
       "8     0.259   Total or a lot of confidence            PSNI      Percent   \n",
       "9     0.499                Some confidence            PSNI      Percent   \n",
       "10    0.241        Little or no confidence            PSNI      Percent   \n",
       "11  924.000                Unweighted base            PSNI      Percent   \n",
       "12    0.113   Total or a lot of confidence   Local Council      Percent   \n",
       "13    0.441                Some confidence   Local Council      Percent   \n",
       "14    0.446        Little or no confidence   Local Council      Percent   \n",
       "15  887.000                Unweighted base   Local Council      Percent   \n",
       "16    0.177   Total or a lot of confidence            PCSP      Percent   \n",
       "17    0.497                Some confidence            PCSP      Percent   \n",
       "18    0.326        Little or no confidence            PCSP      Percent   \n",
       "19  823.000                Unweighted base            PCSP      Percent   \n",
       "20    0.074   Total or a lot of confidence       NIHE / HA      Percent   \n",
       "21    0.343                Some confidence       NIHE / HA      Percent   \n",
       "22    0.583        Little or no confidence       NIHE / HA      Percent   \n",
       "23  786.000                Unweighted base       NIHE / HA      Percent   \n",
       "\n",
       "      Unit  \n",
       "0   People  \n",
       "1   People  \n",
       "2   People  \n",
       "3   People  \n",
       "4   People  \n",
       "5   People  \n",
       "6   People  \n",
       "7   People  \n",
       "8   People  \n",
       "9   People  \n",
       "10  People  \n",
       "11  People  \n",
       "12  People  \n",
       "13  People  \n",
       "14  People  \n",
       "15  People  \n",
       "16  People  \n",
       "17  People  \n",
       "18  People  \n",
       "19  People  \n",
       "20  People  \n",
       "21  People  \n",
       "22  People  \n",
       "23  People  "
      ]
     },
     "execution_count": 10,
     "metadata": {},
     "output_type": "execute_result"
    }
   ],
   "source": [
    "Final_table = c1.topandas()\n",
    "Final_table"
   ]
  },
  {
   "cell_type": "code",
   "execution_count": 11,
   "metadata": {
    "collapsed": true
   },
   "outputs": [],
   "source": [
    "Final_table.columns = ['Value' if x=='OBS' else x for x in Final_table.columns]"
   ]
  },
  {
   "cell_type": "code",
   "execution_count": 12,
   "metadata": {
    "collapsed": true
   },
   "outputs": [],
   "source": [
    "Final_table['Value'] = pd.to_numeric(Final_table['Value'], errors='coerce')"
   ]
  },
  {
   "cell_type": "code",
   "execution_count": 13,
   "metadata": {
    "collapsed": true
   },
   "outputs": [],
   "source": [
    "Final_table['Value'] = Final_table['Value'].apply(str)"
   ]
  },
  {
   "cell_type": "code",
   "execution_count": 14,
   "metadata": {
    "collapsed": true
   },
   "outputs": [],
   "source": [
    "def user_perc(x,y):\n",
    "    \n",
    "    if str(x) == 'Unweighted base':\n",
    "        return 'Count'\n",
    "    else:\n",
    "        return y\n",
    "    \n",
    "Final_table['Measure Type'] = Final_table.apply(lambda row: user_perc(row['Alcohol related issue response'],row['Measure Type']), axis = 1)"
   ]
  },
  {
   "cell_type": "code",
   "execution_count": 15,
   "metadata": {},
   "outputs": [
    {
     "data": {
      "text/plain": [
       "array(['Overall', 'Gvt Depts', 'PSNI', 'Local Council', 'PCSP',\n",
       "       'NIHE / HA'], dtype=object)"
      ]
     },
     "execution_count": 15,
     "metadata": {},
     "output_type": "execute_result"
    }
   ],
   "source": [
    "Final_table['Representatives'].unique()"
   ]
  },
  {
   "cell_type": "code",
   "execution_count": 16,
   "metadata": {
    "collapsed": true
   },
   "outputs": [],
   "source": [
    "Final_table['Representatives'] = Final_table['Representatives'].map(\n",
    "    lambda x: {\n",
    "        'Overall' : 'overall', \n",
    "        'Gvt Depts' : 'govt-dept',\n",
    "        'PSNI': 'police' ,\n",
    "        'PCSP': 'pcsp',\n",
    "        'NIHE / HA': 'nihe',\n",
    "        'Local Council': 'councillor'        \n",
    "        }.get(x, x))"
   ]
  },
  {
   "cell_type": "code",
   "execution_count": 17,
   "metadata": {},
   "outputs": [
    {
     "data": {
      "text/plain": [
       "array(['Total or a lot of confidence', 'Some confidence',\n",
       "       'Little or no confidence', 'Unweighted base'], dtype=object)"
      ]
     },
     "execution_count": 17,
     "metadata": {},
     "output_type": "execute_result"
    }
   ],
   "source": [
    "Final_table['Alcohol related issue response'].unique()"
   ]
  },
  {
   "cell_type": "code",
   "execution_count": 18,
   "metadata": {
    "collapsed": true
   },
   "outputs": [],
   "source": [
    "Final_table['Alcohol related issue response'] = Final_table['Alcohol related issue response'].map(\n",
    "    lambda x: {\n",
    "        'Total or a lot of confidence' : 'total-confidence', \n",
    "        'Some confidence' : 'some-confidence',\n",
    "        'Little or no confidence': 'no-confidence' ,\n",
    "        'Unweighted base': 'unweighted-base'\n",
    "       }.get(x, x))"
   ]
  },
  {
   "cell_type": "code",
   "execution_count": 19,
   "metadata": {
    "scrolled": true
   },
   "outputs": [
    {
     "data": {
      "text/html": [
       "<div>\n",
       "<style scoped>\n",
       "    .dataframe tbody tr th:only-of-type {\n",
       "        vertical-align: middle;\n",
       "    }\n",
       "\n",
       "    .dataframe tbody tr th {\n",
       "        vertical-align: top;\n",
       "    }\n",
       "\n",
       "    .dataframe thead th {\n",
       "        text-align: right;\n",
       "    }\n",
       "</style>\n",
       "<table border=\"1\" class=\"dataframe\">\n",
       "  <thead>\n",
       "    <tr style=\"text-align: right;\">\n",
       "      <th></th>\n",
       "      <th>Value</th>\n",
       "      <th>Alcohol related issue response</th>\n",
       "      <th>Representatives</th>\n",
       "      <th>Measure Type</th>\n",
       "      <th>Unit</th>\n",
       "    </tr>\n",
       "  </thead>\n",
       "  <tbody>\n",
       "    <tr>\n",
       "      <th>0</th>\n",
       "      <td>0.094</td>\n",
       "      <td>total-confidence</td>\n",
       "      <td>overall</td>\n",
       "      <td>Percent</td>\n",
       "      <td>People</td>\n",
       "    </tr>\n",
       "    <tr>\n",
       "      <th>1</th>\n",
       "      <td>0.434</td>\n",
       "      <td>some-confidence</td>\n",
       "      <td>overall</td>\n",
       "      <td>Percent</td>\n",
       "      <td>People</td>\n",
       "    </tr>\n",
       "    <tr>\n",
       "      <th>2</th>\n",
       "      <td>0.472</td>\n",
       "      <td>no-confidence</td>\n",
       "      <td>overall</td>\n",
       "      <td>Percent</td>\n",
       "      <td>People</td>\n",
       "    </tr>\n",
       "    <tr>\n",
       "      <th>3</th>\n",
       "      <td>917.0</td>\n",
       "      <td>unweighted-base</td>\n",
       "      <td>overall</td>\n",
       "      <td>Count</td>\n",
       "      <td>People</td>\n",
       "    </tr>\n",
       "    <tr>\n",
       "      <th>4</th>\n",
       "      <td>0.118</td>\n",
       "      <td>total-confidence</td>\n",
       "      <td>govt-dept</td>\n",
       "      <td>Percent</td>\n",
       "      <td>People</td>\n",
       "    </tr>\n",
       "  </tbody>\n",
       "</table>\n",
       "</div>"
      ],
      "text/plain": [
       "   Value Alcohol related issue response Representatives Measure Type    Unit\n",
       "0  0.094               total-confidence         overall      Percent  People\n",
       "1  0.434                some-confidence         overall      Percent  People\n",
       "2  0.472                  no-confidence         overall      Percent  People\n",
       "3  917.0                unweighted-base         overall        Count  People\n",
       "4  0.118               total-confidence       govt-dept      Percent  People"
      ]
     },
     "execution_count": 19,
     "metadata": {},
     "output_type": "execute_result"
    }
   ],
   "source": [
    "Final_table.head()"
   ]
  },
  {
   "cell_type": "code",
   "execution_count": 20,
   "metadata": {
    "collapsed": true
   },
   "outputs": [],
   "source": [
    "Final_table = Final_table[['Representatives','Alcohol related issue response','Measure Type','Value','Unit']]"
   ]
  },
  {
   "cell_type": "code",
   "execution_count": 21,
   "metadata": {
    "collapsed": true
   },
   "outputs": [],
   "source": [
    "destinationFolder = Path('out')\n",
    "destinationFolder.mkdir(exist_ok=True, parents=True)\n",
    "\n",
    "Final_table.to_csv(destinationFolder / ('table13.csv'), index = False)"
   ]
  },
  {
   "cell_type": "code",
   "execution_count": null,
   "metadata": {
    "collapsed": true
   },
   "outputs": [],
   "source": []
  }
 ],
 "metadata": {
  "kernelspec": {
   "display_name": "Python 3",
   "language": "python",
   "name": "python3"
  },
  "language_info": {
   "codemirror_mode": {
    "name": "ipython",
    "version": 3
   },
   "file_extension": ".py",
   "mimetype": "text/x-python",
   "name": "python",
   "nbconvert_exporter": "python",
   "pygments_lexer": "ipython3",
   "version": "3.6.3"
  }
 },
 "nbformat": 4,
 "nbformat_minor": 2
}
