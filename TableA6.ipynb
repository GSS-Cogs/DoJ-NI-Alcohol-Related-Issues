{
 "cells": [
  {
   "attachments": {},
   "cell_type": "markdown",
   "metadata": {},
   "source": [
    "Table A6: Alcohol related issues in the local area affecting the respondent or their family"
   ]
  },
  {
   "cell_type": "code",
   "execution_count": 1,
   "metadata": {
    "collapsed": true
   },
   "outputs": [],
   "source": [
    "from databaker.framework import *\n",
    "import pandas as pd "
   ]
  },
  {
   "cell_type": "code",
   "execution_count": 2,
   "metadata": {
    "collapsed": true
   },
   "outputs": [],
   "source": [
    "import requests\n",
    "from cachecontrol import CacheControl\n",
    "from cachecontrol.caches.file_cache import FileCache\n",
    "from cachecontrol.heuristics import LastModified\n",
    "from pathlib import Path\n",
    "\n",
    "session = CacheControl(requests.Session(),\n",
    "                       cache=FileCache('.cache'),\n",
    "                       heuristic=LastModified())\n",
    "\n",
    "sourceFolder = Path('in')\n",
    "sourceFolder.mkdir(exist_ok=True)\n",
    "\n",
    "inputURL = 'https://www.justice-ni.gov.uk/sites/default/files/publications/justice/ni-omnibus-survey-oct-2016-alcohol-drugs-tabular.xlsx'\n",
    "inputFile = sourceFolder / 'ni-omnibus-survey-oct-2016-alcohol-drugs-tabular.xlsx'\n",
    "response = session.get(inputURL)\n",
    "with open(inputFile, 'wb') as f:\n",
    "  f.write(response.content)"
   ]
  },
  {
   "cell_type": "markdown",
   "metadata": {},
   "source": [
    "https://www.justice-ni.gov.uk/sites/default/files/publications/justice/ni-omnibus-survey-oct-2016-alcohol-drugs-tabular.xlsx"
   ]
  },
  {
   "cell_type": "code",
   "execution_count": 3,
   "metadata": {},
   "outputs": [
    {
     "name": "stdout",
     "output_type": "stream",
     "text": [
      "Loading in\\ni-omnibus-survey-oct-2016-alcohol-drugs-tabular.xlsx which has size 191159 bytes\n",
      "Table names: ['Table A6']\n"
     ]
    }
   ],
   "source": [
    "tab = loadxlstabs(inputFile, sheetids='Table A6')[0]"
   ]
  },
  {
   "cell_type": "code",
   "execution_count": 4,
   "metadata": {
    "collapsed": true
   },
   "outputs": [],
   "source": [
    "observations = tab.excel_ref('B5').expand(DOWN).expand(RIGHT).is_not_blank()"
   ]
  },
  {
   "cell_type": "code",
   "execution_count": 5,
   "metadata": {},
   "outputs": [
    {
     "data": {
      "text/plain": [
       "{<B20 0.034>, <B10 0.236>, <B19 0.02>, <B22 85.0>, <B17 0.047>, <B12 0.142>, <B13 0.122>, <B9 0.236>, <B14 0.108>, <B15 0.081>, <B5 0.493>, <B11 0.176>, <B16 0.061>, <B6 0.392>, <B7 0.324>, <B18 0.034>, <B8 0.291>}"
      ]
     },
     "execution_count": 5,
     "metadata": {},
     "output_type": "execute_result"
    }
   ],
   "source": [
    "observations"
   ]
  },
  {
   "cell_type": "code",
   "execution_count": 6,
   "metadata": {},
   "outputs": [
    {
     "data": {
      "text/plain": [
       "{<A18 'Drink-driving'>, <A28 '3. Caution should be exercised when interpreting percentages in this table, due to small numbers or respondents.'>, <A26 '2. Respondents were asked to select from a list of alcohol related issues respondent or their family have been'>, <A13 'Indecent exposure/urinating in street'>, <A14 'Theft'>, <A15 'Underage sales of alcohol'>, <A22 'Unweighted base'>, <A16 'Joy riding'>, <A20 'Other'>, <A5 'Rowdy and drunken behaviour'>, <A11 'Alcohol use/abuse'>, <A7 'Personal safety'>, <A8 'Vandalism'>, <A6 'General disturbance'>, <A9 'Drinking in public places'>, <A24 'Source: Northern Ireland Omnibus Survey, October 2016'>, <A12 'Litter'>, <A27 'affected by in their local area, more than one option could be selected.'>, <A10 'Underage drinking'>, <A17 'Spiking of drinks'>, <A25 '1. Results exclude \"don\\'t know\" and refusals.'>, <A19 'Unwanted sexual contact'>}"
      ]
     },
     "execution_count": 6,
     "metadata": {},
     "output_type": "execute_result"
    }
   ],
   "source": [
    "representatives = tab.excel_ref('A5').expand(DOWN).is_not_blank()\n",
    "representatives"
   ]
  },
  {
   "cell_type": "code",
   "execution_count": 7,
   "metadata": {
    "collapsed": true
   },
   "outputs": [],
   "source": [
    "Dimensions = [\n",
    "            HDim(representatives,'Alcohol related issue',DIRECTLY,LEFT),\n",
    "            HDimConst('Measure Type', 'Percentage'),\n",
    "            HDimConst('Unit','People')\n",
    "            ]"
   ]
  },
  {
   "cell_type": "code",
   "execution_count": 8,
   "metadata": {
    "collapsed": true
   },
   "outputs": [],
   "source": [
    "c1 = ConversionSegment(observations, Dimensions, processTIMEUNIT=True)\n",
    "# savepreviewhtml(c1)"
   ]
  },
  {
   "cell_type": "code",
   "execution_count": 9,
   "metadata": {},
   "outputs": [
    {
     "name": "stdout",
     "output_type": "stream",
     "text": [
      "\n"
     ]
    },
    {
     "data": {
      "text/html": [
       "<div>\n",
       "<style scoped>\n",
       "    .dataframe tbody tr th:only-of-type {\n",
       "        vertical-align: middle;\n",
       "    }\n",
       "\n",
       "    .dataframe tbody tr th {\n",
       "        vertical-align: top;\n",
       "    }\n",
       "\n",
       "    .dataframe thead th {\n",
       "        text-align: right;\n",
       "    }\n",
       "</style>\n",
       "<table border=\"1\" class=\"dataframe\">\n",
       "  <thead>\n",
       "    <tr style=\"text-align: right;\">\n",
       "      <th></th>\n",
       "      <th>OBS</th>\n",
       "      <th>Alcohol related issue</th>\n",
       "      <th>Measure Type</th>\n",
       "      <th>Unit</th>\n",
       "    </tr>\n",
       "  </thead>\n",
       "  <tbody>\n",
       "    <tr>\n",
       "      <th>0</th>\n",
       "      <td>0.493</td>\n",
       "      <td>Rowdy and drunken behaviour</td>\n",
       "      <td>Percentage</td>\n",
       "      <td>People</td>\n",
       "    </tr>\n",
       "    <tr>\n",
       "      <th>1</th>\n",
       "      <td>0.392</td>\n",
       "      <td>General disturbance</td>\n",
       "      <td>Percentage</td>\n",
       "      <td>People</td>\n",
       "    </tr>\n",
       "    <tr>\n",
       "      <th>2</th>\n",
       "      <td>0.324</td>\n",
       "      <td>Personal safety</td>\n",
       "      <td>Percentage</td>\n",
       "      <td>People</td>\n",
       "    </tr>\n",
       "    <tr>\n",
       "      <th>3</th>\n",
       "      <td>0.291</td>\n",
       "      <td>Vandalism</td>\n",
       "      <td>Percentage</td>\n",
       "      <td>People</td>\n",
       "    </tr>\n",
       "    <tr>\n",
       "      <th>4</th>\n",
       "      <td>0.236</td>\n",
       "      <td>Drinking in public places</td>\n",
       "      <td>Percentage</td>\n",
       "      <td>People</td>\n",
       "    </tr>\n",
       "    <tr>\n",
       "      <th>5</th>\n",
       "      <td>0.236</td>\n",
       "      <td>Underage drinking</td>\n",
       "      <td>Percentage</td>\n",
       "      <td>People</td>\n",
       "    </tr>\n",
       "    <tr>\n",
       "      <th>6</th>\n",
       "      <td>0.176</td>\n",
       "      <td>Alcohol use/abuse</td>\n",
       "      <td>Percentage</td>\n",
       "      <td>People</td>\n",
       "    </tr>\n",
       "    <tr>\n",
       "      <th>7</th>\n",
       "      <td>0.142</td>\n",
       "      <td>Litter</td>\n",
       "      <td>Percentage</td>\n",
       "      <td>People</td>\n",
       "    </tr>\n",
       "    <tr>\n",
       "      <th>8</th>\n",
       "      <td>0.122</td>\n",
       "      <td>Indecent exposure/urinating in street</td>\n",
       "      <td>Percentage</td>\n",
       "      <td>People</td>\n",
       "    </tr>\n",
       "    <tr>\n",
       "      <th>9</th>\n",
       "      <td>0.108</td>\n",
       "      <td>Theft</td>\n",
       "      <td>Percentage</td>\n",
       "      <td>People</td>\n",
       "    </tr>\n",
       "    <tr>\n",
       "      <th>10</th>\n",
       "      <td>0.081</td>\n",
       "      <td>Underage sales of alcohol</td>\n",
       "      <td>Percentage</td>\n",
       "      <td>People</td>\n",
       "    </tr>\n",
       "    <tr>\n",
       "      <th>11</th>\n",
       "      <td>0.061</td>\n",
       "      <td>Joy riding</td>\n",
       "      <td>Percentage</td>\n",
       "      <td>People</td>\n",
       "    </tr>\n",
       "    <tr>\n",
       "      <th>12</th>\n",
       "      <td>0.047</td>\n",
       "      <td>Spiking of drinks</td>\n",
       "      <td>Percentage</td>\n",
       "      <td>People</td>\n",
       "    </tr>\n",
       "    <tr>\n",
       "      <th>13</th>\n",
       "      <td>0.034</td>\n",
       "      <td>Drink-driving</td>\n",
       "      <td>Percentage</td>\n",
       "      <td>People</td>\n",
       "    </tr>\n",
       "    <tr>\n",
       "      <th>14</th>\n",
       "      <td>0.020</td>\n",
       "      <td>Unwanted sexual contact</td>\n",
       "      <td>Percentage</td>\n",
       "      <td>People</td>\n",
       "    </tr>\n",
       "    <tr>\n",
       "      <th>15</th>\n",
       "      <td>0.034</td>\n",
       "      <td>Other</td>\n",
       "      <td>Percentage</td>\n",
       "      <td>People</td>\n",
       "    </tr>\n",
       "    <tr>\n",
       "      <th>16</th>\n",
       "      <td>85.000</td>\n",
       "      <td>Unweighted base</td>\n",
       "      <td>Percentage</td>\n",
       "      <td>People</td>\n",
       "    </tr>\n",
       "  </tbody>\n",
       "</table>\n",
       "</div>"
      ],
      "text/plain": [
       "       OBS                  Alcohol related issue Measure Type    Unit\n",
       "0    0.493            Rowdy and drunken behaviour   Percentage  People\n",
       "1    0.392                    General disturbance   Percentage  People\n",
       "2    0.324                        Personal safety   Percentage  People\n",
       "3    0.291                              Vandalism   Percentage  People\n",
       "4    0.236              Drinking in public places   Percentage  People\n",
       "5    0.236                      Underage drinking   Percentage  People\n",
       "6    0.176                      Alcohol use/abuse   Percentage  People\n",
       "7    0.142                                 Litter   Percentage  People\n",
       "8    0.122  Indecent exposure/urinating in street   Percentage  People\n",
       "9    0.108                                  Theft   Percentage  People\n",
       "10   0.081              Underage sales of alcohol   Percentage  People\n",
       "11   0.061                             Joy riding   Percentage  People\n",
       "12   0.047                      Spiking of drinks   Percentage  People\n",
       "13   0.034                          Drink-driving   Percentage  People\n",
       "14   0.020                Unwanted sexual contact   Percentage  People\n",
       "15   0.034                                  Other   Percentage  People\n",
       "16  85.000                        Unweighted base   Percentage  People"
      ]
     },
     "execution_count": 9,
     "metadata": {},
     "output_type": "execute_result"
    }
   ],
   "source": [
    "new_table = c1.topandas()\n",
    "new_table"
   ]
  },
  {
   "cell_type": "code",
   "execution_count": 10,
   "metadata": {
    "collapsed": true
   },
   "outputs": [],
   "source": [
    "new_table.columns = ['Response' if x=='OBS' else x for x in new_table.columns]"
   ]
  },
  {
   "cell_type": "code",
   "execution_count": 11,
   "metadata": {},
   "outputs": [
    {
     "data": {
      "text/plain": [
       "Response                 float64\n",
       "Alcohol related issue     object\n",
       "Measure Type              object\n",
       "Unit                      object\n",
       "dtype: object"
      ]
     },
     "execution_count": 11,
     "metadata": {},
     "output_type": "execute_result"
    }
   ],
   "source": [
    "new_table.dtypes"
   ]
  },
  {
   "cell_type": "code",
   "execution_count": 12,
   "metadata": {},
   "outputs": [
    {
     "data": {
      "text/html": [
       "<div>\n",
       "<style scoped>\n",
       "    .dataframe tbody tr th:only-of-type {\n",
       "        vertical-align: middle;\n",
       "    }\n",
       "\n",
       "    .dataframe tbody tr th {\n",
       "        vertical-align: top;\n",
       "    }\n",
       "\n",
       "    .dataframe thead th {\n",
       "        text-align: right;\n",
       "    }\n",
       "</style>\n",
       "<table border=\"1\" class=\"dataframe\">\n",
       "  <thead>\n",
       "    <tr style=\"text-align: right;\">\n",
       "      <th></th>\n",
       "      <th>Response</th>\n",
       "      <th>Alcohol related issue</th>\n",
       "      <th>Measure Type</th>\n",
       "      <th>Unit</th>\n",
       "    </tr>\n",
       "  </thead>\n",
       "  <tbody>\n",
       "    <tr>\n",
       "      <th>12</th>\n",
       "      <td>0.047</td>\n",
       "      <td>Spiking of drinks</td>\n",
       "      <td>Percentage</td>\n",
       "      <td>People</td>\n",
       "    </tr>\n",
       "    <tr>\n",
       "      <th>13</th>\n",
       "      <td>0.034</td>\n",
       "      <td>Drink-driving</td>\n",
       "      <td>Percentage</td>\n",
       "      <td>People</td>\n",
       "    </tr>\n",
       "    <tr>\n",
       "      <th>14</th>\n",
       "      <td>0.020</td>\n",
       "      <td>Unwanted sexual contact</td>\n",
       "      <td>Percentage</td>\n",
       "      <td>People</td>\n",
       "    </tr>\n",
       "    <tr>\n",
       "      <th>15</th>\n",
       "      <td>0.034</td>\n",
       "      <td>Other</td>\n",
       "      <td>Percentage</td>\n",
       "      <td>People</td>\n",
       "    </tr>\n",
       "    <tr>\n",
       "      <th>16</th>\n",
       "      <td>85.000</td>\n",
       "      <td>Unweighted base</td>\n",
       "      <td>Percentage</td>\n",
       "      <td>People</td>\n",
       "    </tr>\n",
       "  </tbody>\n",
       "</table>\n",
       "</div>"
      ],
      "text/plain": [
       "    Response    Alcohol related issue Measure Type    Unit\n",
       "12     0.047        Spiking of drinks   Percentage  People\n",
       "13     0.034            Drink-driving   Percentage  People\n",
       "14     0.020  Unwanted sexual contact   Percentage  People\n",
       "15     0.034                    Other   Percentage  People\n",
       "16    85.000          Unweighted base   Percentage  People"
      ]
     },
     "execution_count": 12,
     "metadata": {},
     "output_type": "execute_result"
    }
   ],
   "source": [
    "new_table.tail(5)"
   ]
  },
  {
   "cell_type": "code",
   "execution_count": 13,
   "metadata": {},
   "outputs": [
    {
     "data": {
      "text/html": [
       "<div>\n",
       "<style scoped>\n",
       "    .dataframe tbody tr th:only-of-type {\n",
       "        vertical-align: middle;\n",
       "    }\n",
       "\n",
       "    .dataframe tbody tr th {\n",
       "        vertical-align: top;\n",
       "    }\n",
       "\n",
       "    .dataframe thead th {\n",
       "        text-align: right;\n",
       "    }\n",
       "</style>\n",
       "<table border=\"1\" class=\"dataframe\">\n",
       "  <thead>\n",
       "    <tr style=\"text-align: right;\">\n",
       "      <th></th>\n",
       "      <th>Response</th>\n",
       "      <th>Alcohol related issue</th>\n",
       "      <th>Measure Type</th>\n",
       "      <th>Unit</th>\n",
       "    </tr>\n",
       "  </thead>\n",
       "  <tbody>\n",
       "    <tr>\n",
       "      <th>0</th>\n",
       "      <td>0.493</td>\n",
       "      <td>Rowdy and drunken behaviour</td>\n",
       "      <td>Percentage</td>\n",
       "      <td>People</td>\n",
       "    </tr>\n",
       "    <tr>\n",
       "      <th>1</th>\n",
       "      <td>0.392</td>\n",
       "      <td>General disturbance</td>\n",
       "      <td>Percentage</td>\n",
       "      <td>People</td>\n",
       "    </tr>\n",
       "    <tr>\n",
       "      <th>2</th>\n",
       "      <td>0.324</td>\n",
       "      <td>Personal safety</td>\n",
       "      <td>Percentage</td>\n",
       "      <td>People</td>\n",
       "    </tr>\n",
       "    <tr>\n",
       "      <th>3</th>\n",
       "      <td>0.291</td>\n",
       "      <td>Vandalism</td>\n",
       "      <td>Percentage</td>\n",
       "      <td>People</td>\n",
       "    </tr>\n",
       "    <tr>\n",
       "      <th>4</th>\n",
       "      <td>0.236</td>\n",
       "      <td>Drinking in public places</td>\n",
       "      <td>Percentage</td>\n",
       "      <td>People</td>\n",
       "    </tr>\n",
       "  </tbody>\n",
       "</table>\n",
       "</div>"
      ],
      "text/plain": [
       "   Response        Alcohol related issue Measure Type    Unit\n",
       "0     0.493  Rowdy and drunken behaviour   Percentage  People\n",
       "1     0.392          General disturbance   Percentage  People\n",
       "2     0.324              Personal safety   Percentage  People\n",
       "3     0.291                    Vandalism   Percentage  People\n",
       "4     0.236    Drinking in public places   Percentage  People"
      ]
     },
     "execution_count": 13,
     "metadata": {},
     "output_type": "execute_result"
    }
   ],
   "source": [
    "new_table.head()"
   ]
  },
  {
   "cell_type": "code",
   "execution_count": 14,
   "metadata": {
    "collapsed": true
   },
   "outputs": [],
   "source": [
    "new_table['Response'] = pd.to_numeric(new_table['Response'], errors='coerce')"
   ]
  },
  {
   "cell_type": "code",
   "execution_count": 15,
   "metadata": {
    "collapsed": true
   },
   "outputs": [],
   "source": [
    "new_table['Response'] = new_table['Response'].apply(str)"
   ]
  },
  {
   "cell_type": "code",
   "execution_count": 16,
   "metadata": {
    "collapsed": true
   },
   "outputs": [],
   "source": [
    "def user_perc(x,y):\n",
    "    \n",
    "    if str(x) == 'Unweighted base':\n",
    "        return 'Number'\n",
    "    else:\n",
    "        return y\n",
    "    \n",
    "new_table['Measure Type'] = new_table.apply(lambda row: user_perc(row['Alcohol related issue'],row['Measure Type']), axis = 1)"
   ]
  },
  {
   "cell_type": "code",
   "execution_count": 17,
   "metadata": {
    "collapsed": true
   },
   "outputs": [],
   "source": [
    "new_table = new_table[['Alcohol related issue','Measure Type','Response','Unit']]"
   ]
  },
  {
   "cell_type": "code",
   "execution_count": 18,
   "metadata": {},
   "outputs": [
    {
     "data": {
      "text/html": [
       "<div>\n",
       "<style scoped>\n",
       "    .dataframe tbody tr th:only-of-type {\n",
       "        vertical-align: middle;\n",
       "    }\n",
       "\n",
       "    .dataframe tbody tr th {\n",
       "        vertical-align: top;\n",
       "    }\n",
       "\n",
       "    .dataframe thead th {\n",
       "        text-align: right;\n",
       "    }\n",
       "</style>\n",
       "<table border=\"1\" class=\"dataframe\">\n",
       "  <thead>\n",
       "    <tr style=\"text-align: right;\">\n",
       "      <th></th>\n",
       "      <th>Alcohol related issue</th>\n",
       "      <th>Measure Type</th>\n",
       "      <th>Response</th>\n",
       "      <th>Unit</th>\n",
       "    </tr>\n",
       "  </thead>\n",
       "  <tbody>\n",
       "    <tr>\n",
       "      <th>0</th>\n",
       "      <td>Rowdy and drunken behaviour</td>\n",
       "      <td>Percentage</td>\n",
       "      <td>0.493</td>\n",
       "      <td>People</td>\n",
       "    </tr>\n",
       "    <tr>\n",
       "      <th>1</th>\n",
       "      <td>General disturbance</td>\n",
       "      <td>Percentage</td>\n",
       "      <td>0.392</td>\n",
       "      <td>People</td>\n",
       "    </tr>\n",
       "    <tr>\n",
       "      <th>2</th>\n",
       "      <td>Personal safety</td>\n",
       "      <td>Percentage</td>\n",
       "      <td>0.324</td>\n",
       "      <td>People</td>\n",
       "    </tr>\n",
       "    <tr>\n",
       "      <th>3</th>\n",
       "      <td>Vandalism</td>\n",
       "      <td>Percentage</td>\n",
       "      <td>0.291</td>\n",
       "      <td>People</td>\n",
       "    </tr>\n",
       "    <tr>\n",
       "      <th>4</th>\n",
       "      <td>Drinking in public places</td>\n",
       "      <td>Percentage</td>\n",
       "      <td>0.236</td>\n",
       "      <td>People</td>\n",
       "    </tr>\n",
       "  </tbody>\n",
       "</table>\n",
       "</div>"
      ],
      "text/plain": [
       "         Alcohol related issue Measure Type Response    Unit\n",
       "0  Rowdy and drunken behaviour   Percentage    0.493  People\n",
       "1          General disturbance   Percentage    0.392  People\n",
       "2              Personal safety   Percentage    0.324  People\n",
       "3                    Vandalism   Percentage    0.291  People\n",
       "4    Drinking in public places   Percentage    0.236  People"
      ]
     },
     "execution_count": 18,
     "metadata": {},
     "output_type": "execute_result"
    }
   ],
   "source": [
    "new_table.head(5)"
   ]
  },
  {
   "cell_type": "code",
   "execution_count": 19,
   "metadata": {
    "collapsed": true
   },
   "outputs": [],
   "source": [
    "destinationFolder = Path('out')\n",
    "destinationFolder.mkdir(exist_ok=True, parents=True)\n",
    "\n",
    "new_table.to_csv(destinationFolder / ('taba6.csv'), index = False)"
   ]
  },
  {
   "cell_type": "code",
   "execution_count": null,
   "metadata": {
    "collapsed": true
   },
   "outputs": [],
   "source": []
  }
 ],
 "metadata": {
  "kernelspec": {
   "display_name": "Python 3",
   "language": "python",
   "name": "python3"
  },
  "language_info": {
   "codemirror_mode": {
    "name": "ipython",
    "version": 3
   },
   "file_extension": ".py",
   "mimetype": "text/x-python",
   "name": "python",
   "nbconvert_exporter": "python",
   "pygments_lexer": "ipython3",
   "version": "3.6.3"
  }
 },
 "nbformat": 4,
 "nbformat_minor": 2
}
