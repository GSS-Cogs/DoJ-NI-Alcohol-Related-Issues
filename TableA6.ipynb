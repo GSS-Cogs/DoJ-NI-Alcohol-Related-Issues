{
 "cells": [
  {
   "cell_type": "markdown",
   "metadata": {},
   "source": [
    "Table A6: Alcohol related issue1s in the local area affecting the respondent or their family"
   ]
  },
  {
   "cell_type": "code",
   "execution_count": 1,
   "metadata": {
    "collapsed": true
   },
   "outputs": [],
   "source": [
    "from databaker.framework import *\n",
    "import pandas as pd "
   ]
  },
  {
   "cell_type": "code",
   "execution_count": 2,
   "metadata": {
    "collapsed": true
   },
   "outputs": [],
   "source": [
    "import requests\n",
    "from cachecontrol import CacheControl\n",
    "from cachecontrol.caches.file_cache import FileCache\n",
    "from cachecontrol.heuristics import LastModified\n",
    "from pathlib import Path\n",
    "\n",
    "session = CacheControl(requests.Session(),\n",
    "                       cache=FileCache('.cache'),\n",
    "                       heuristic=LastModified())\n",
    "\n",
    "sourceFolder = Path('in')\n",
    "sourceFolder.mkdir(exist_ok=True)\n",
    "\n",
    "inputURL = 'https://www.justice-ni.gov.uk/sites/default/files/publications/justice/ni-omnibus-survey-oct-2016-alcohol-drugs-tabular.xlsx'\n",
    "inputFile = sourceFolder / 'ni-omnibus-survey-oct-2016-alcohol-drugs-tabular.xlsx'\n",
    "Value = session.get(inputURL)\n",
    "with open(inputFile, 'wb') as f:\n",
    "  f.write(Value.content)"
   ]
  },
  {
   "cell_type": "markdown",
   "metadata": {},
   "source": [
    "https://www.justice-ni.gov.uk/sites/default/files/publications/justice/ni-omnibus-survey-oct-2016-alcohol-drugs-tabular.xlsx"
   ]
  },
  {
   "cell_type": "code",
   "execution_count": 3,
   "metadata": {},
   "outputs": [
    {
     "name": "stdout",
     "output_type": "stream",
     "text": [
      "Loading in\\ni-omnibus-survey-oct-2016-alcohol-drugs-tabular.xlsx which has size 191159 bytes\n",
      "Table names: ['Table A6']\n"
     ]
    }
   ],
   "source": [
    "tab = loadxlstabs(inputFile, sheetids='Table A6')[0]"
   ]
  },
  {
   "cell_type": "code",
   "execution_count": 4,
   "metadata": {
    "collapsed": true
   },
   "outputs": [],
   "source": [
    "observations = tab.excel_ref('B5').expand(DOWN).expand(RIGHT).is_not_blank()"
   ]
  },
  {
   "cell_type": "code",
   "execution_count": 5,
   "metadata": {},
   "outputs": [
    {
     "data": {
      "text/plain": [
       "{<B13 0.122>, <B18 0.034>, <B14 0.108>, <B22 85.0>, <B11 0.176>, <B7 0.324>, <B12 0.142>, <B8 0.291>, <B9 0.236>, <B15 0.081>, <B20 0.034>, <B5 0.493>, <B10 0.236>, <B19 0.02>, <B16 0.061>, <B17 0.047>, <B6 0.392>}"
      ]
     },
     "execution_count": 5,
     "metadata": {},
     "output_type": "execute_result"
    }
   ],
   "source": [
    "observations"
   ]
  },
  {
   "cell_type": "code",
   "execution_count": 6,
   "metadata": {},
   "outputs": [
    {
     "data": {
      "text/plain": [
       "{<A27 'affected by in their local area, more than one option could be selected.'>, <A9 'Drinking in public places'>, <A8 'Vandalism'>, <A17 'Spiking of drinks'>, <A12 'Litter'>, <A25 '1. Results exclude \"don\\'t know\" and refusals.'>, <A22 'Unweighted base'>, <A6 'General disturbance'>, <A24 'Source: Northern Ireland Omnibus Survey, October 2016'>, <A14 'Theft'>, <A11 'Alcohol use/abuse'>, <A18 'Drink-driving'>, <A10 'Underage drinking'>, <A7 'Personal safety'>, <A20 'Other'>, <A16 'Joy riding'>, <A19 'Unwanted sexual contact'>, <A28 '3. Caution should be exercised when interpreting percentages in this table, due to small numbers or respondents.'>, <A5 'Rowdy and drunken behaviour'>, <A13 'Indecent exposure/urinating in street'>, <A15 'Underage sales of alcohol'>, <A26 '2. Respondents were asked to select from a list of alcohol related issues respondent or their family have been'>}"
      ]
     },
     "execution_count": 6,
     "metadata": {},
     "output_type": "execute_result"
    }
   ],
   "source": [
    "representatives = tab.excel_ref('A5').expand(DOWN).is_not_blank()\n",
    "representatives"
   ]
  },
  {
   "cell_type": "code",
   "execution_count": 7,
   "metadata": {
    "collapsed": true
   },
   "outputs": [],
   "source": [
    "Dimensions = [\n",
    "            HDim(representatives,'Alcohol related issue1',DIRECTLY,LEFT),\n",
    "            HDimConst('Measure Type', 'Percent'),\n",
    "            HDimConst('Unit','People')\n",
    "            ]"
   ]
  },
  {
   "cell_type": "code",
   "execution_count": 8,
   "metadata": {
    "collapsed": true
   },
   "outputs": [],
   "source": [
    "c1 = ConversionSegment(observations, Dimensions, processTIMEUNIT=True)\n",
    "# savepreviewhtml(c1)"
   ]
  },
  {
   "cell_type": "code",
   "execution_count": 9,
   "metadata": {},
   "outputs": [
    {
     "name": "stdout",
     "output_type": "stream",
     "text": [
      "\n"
     ]
    },
    {
     "data": {
      "text/html": [
       "<div>\n",
       "<style scoped>\n",
       "    .dataframe tbody tr th:only-of-type {\n",
       "        vertical-align: middle;\n",
       "    }\n",
       "\n",
       "    .dataframe tbody tr th {\n",
       "        vertical-align: top;\n",
       "    }\n",
       "\n",
       "    .dataframe thead th {\n",
       "        text-align: right;\n",
       "    }\n",
       "</style>\n",
       "<table border=\"1\" class=\"dataframe\">\n",
       "  <thead>\n",
       "    <tr style=\"text-align: right;\">\n",
       "      <th></th>\n",
       "      <th>OBS</th>\n",
       "      <th>Alcohol related issue1</th>\n",
       "      <th>Measure Type</th>\n",
       "      <th>Unit</th>\n",
       "    </tr>\n",
       "  </thead>\n",
       "  <tbody>\n",
       "    <tr>\n",
       "      <th>0</th>\n",
       "      <td>0.493</td>\n",
       "      <td>Rowdy and drunken behaviour</td>\n",
       "      <td>Percent</td>\n",
       "      <td>People</td>\n",
       "    </tr>\n",
       "    <tr>\n",
       "      <th>1</th>\n",
       "      <td>0.392</td>\n",
       "      <td>General disturbance</td>\n",
       "      <td>Percent</td>\n",
       "      <td>People</td>\n",
       "    </tr>\n",
       "    <tr>\n",
       "      <th>2</th>\n",
       "      <td>0.324</td>\n",
       "      <td>Personal safety</td>\n",
       "      <td>Percent</td>\n",
       "      <td>People</td>\n",
       "    </tr>\n",
       "    <tr>\n",
       "      <th>3</th>\n",
       "      <td>0.291</td>\n",
       "      <td>Vandalism</td>\n",
       "      <td>Percent</td>\n",
       "      <td>People</td>\n",
       "    </tr>\n",
       "    <tr>\n",
       "      <th>4</th>\n",
       "      <td>0.236</td>\n",
       "      <td>Drinking in public places</td>\n",
       "      <td>Percent</td>\n",
       "      <td>People</td>\n",
       "    </tr>\n",
       "    <tr>\n",
       "      <th>5</th>\n",
       "      <td>0.236</td>\n",
       "      <td>Underage drinking</td>\n",
       "      <td>Percent</td>\n",
       "      <td>People</td>\n",
       "    </tr>\n",
       "    <tr>\n",
       "      <th>6</th>\n",
       "      <td>0.176</td>\n",
       "      <td>Alcohol use/abuse</td>\n",
       "      <td>Percent</td>\n",
       "      <td>People</td>\n",
       "    </tr>\n",
       "    <tr>\n",
       "      <th>7</th>\n",
       "      <td>0.142</td>\n",
       "      <td>Litter</td>\n",
       "      <td>Percent</td>\n",
       "      <td>People</td>\n",
       "    </tr>\n",
       "    <tr>\n",
       "      <th>8</th>\n",
       "      <td>0.122</td>\n",
       "      <td>Indecent exposure/urinating in street</td>\n",
       "      <td>Percent</td>\n",
       "      <td>People</td>\n",
       "    </tr>\n",
       "    <tr>\n",
       "      <th>9</th>\n",
       "      <td>0.108</td>\n",
       "      <td>Theft</td>\n",
       "      <td>Percent</td>\n",
       "      <td>People</td>\n",
       "    </tr>\n",
       "    <tr>\n",
       "      <th>10</th>\n",
       "      <td>0.081</td>\n",
       "      <td>Underage sales of alcohol</td>\n",
       "      <td>Percent</td>\n",
       "      <td>People</td>\n",
       "    </tr>\n",
       "    <tr>\n",
       "      <th>11</th>\n",
       "      <td>0.061</td>\n",
       "      <td>Joy riding</td>\n",
       "      <td>Percent</td>\n",
       "      <td>People</td>\n",
       "    </tr>\n",
       "    <tr>\n",
       "      <th>12</th>\n",
       "      <td>0.047</td>\n",
       "      <td>Spiking of drinks</td>\n",
       "      <td>Percent</td>\n",
       "      <td>People</td>\n",
       "    </tr>\n",
       "    <tr>\n",
       "      <th>13</th>\n",
       "      <td>0.034</td>\n",
       "      <td>Drink-driving</td>\n",
       "      <td>Percent</td>\n",
       "      <td>People</td>\n",
       "    </tr>\n",
       "    <tr>\n",
       "      <th>14</th>\n",
       "      <td>0.020</td>\n",
       "      <td>Unwanted sexual contact</td>\n",
       "      <td>Percent</td>\n",
       "      <td>People</td>\n",
       "    </tr>\n",
       "    <tr>\n",
       "      <th>15</th>\n",
       "      <td>0.034</td>\n",
       "      <td>Other</td>\n",
       "      <td>Percent</td>\n",
       "      <td>People</td>\n",
       "    </tr>\n",
       "    <tr>\n",
       "      <th>16</th>\n",
       "      <td>85.000</td>\n",
       "      <td>Unweighted base</td>\n",
       "      <td>Percent</td>\n",
       "      <td>People</td>\n",
       "    </tr>\n",
       "  </tbody>\n",
       "</table>\n",
       "</div>"
      ],
      "text/plain": [
       "       OBS                 Alcohol related issue1 Measure Type    Unit\n",
       "0    0.493            Rowdy and drunken behaviour      Percent  People\n",
       "1    0.392                    General disturbance      Percent  People\n",
       "2    0.324                        Personal safety      Percent  People\n",
       "3    0.291                              Vandalism      Percent  People\n",
       "4    0.236              Drinking in public places      Percent  People\n",
       "5    0.236                      Underage drinking      Percent  People\n",
       "6    0.176                      Alcohol use/abuse      Percent  People\n",
       "7    0.142                                 Litter      Percent  People\n",
       "8    0.122  Indecent exposure/urinating in street      Percent  People\n",
       "9    0.108                                  Theft      Percent  People\n",
       "10   0.081              Underage sales of alcohol      Percent  People\n",
       "11   0.061                             Joy riding      Percent  People\n",
       "12   0.047                      Spiking of drinks      Percent  People\n",
       "13   0.034                          Drink-driving      Percent  People\n",
       "14   0.020                Unwanted sexual contact      Percent  People\n",
       "15   0.034                                  Other      Percent  People\n",
       "16  85.000                        Unweighted base      Percent  People"
      ]
     },
     "execution_count": 9,
     "metadata": {},
     "output_type": "execute_result"
    }
   ],
   "source": [
    "new_table = c1.topandas()\n",
    "new_table"
   ]
  },
  {
   "cell_type": "code",
   "execution_count": 10,
   "metadata": {
    "collapsed": true
   },
   "outputs": [],
   "source": [
    "new_table.columns = ['Value' if x=='OBS' else x for x in new_table.columns]"
   ]
  },
  {
   "cell_type": "code",
   "execution_count": 11,
   "metadata": {
    "collapsed": true
   },
   "outputs": [],
   "source": [
    "new_table['Value'] = pd.to_numeric(new_table['Value'], errors='coerce')"
   ]
  },
  {
   "cell_type": "code",
   "execution_count": 12,
   "metadata": {
    "collapsed": true
   },
   "outputs": [],
   "source": [
    "new_table['Value'] = new_table['Value'].apply(str)"
   ]
  },
  {
   "cell_type": "code",
   "execution_count": 13,
   "metadata": {
    "collapsed": true
   },
   "outputs": [],
   "source": [
    "def user_perc(x,y):\n",
    "    \n",
    "    if str(x) == 'Unweighted base':\n",
    "        return 'Count'\n",
    "    else:\n",
    "        return y\n",
    "    \n",
    "new_table['Measure Type'] = new_table.apply(lambda row: user_perc(row['Alcohol related issue1'],row['Measure Type']), axis = 1)"
   ]
  },
  {
   "cell_type": "code",
   "execution_count": 14,
   "metadata": {},
   "outputs": [
    {
     "name": "stdout",
     "output_type": "stream",
     "text": [
      "['Label', 'Notation', 'Parent Notation', 'Sort Priority']\n",
      "['Underage drinking', 'underage-drinking', '', '1']\n",
      "['Rowdy and drunken behaviour', 'rowdy-behaviour', '', '2']\n",
      "['Drink-driving', 'drink-driving', '', '3']\n",
      "['Drinking in public places', 'drinking-in-public', '', '4']\n",
      "['Alcohol use/abuse', 'alcohol-use', '', '5']\n",
      "['Underage sales of alcohol', 'underage-alcohol-sales', '', '6']\n",
      "['Personal safety', 'personal-safety', '', '7']\n",
      "['Theft', 'theft', '', '8']\n",
      "['Vandalism', 'vandalism', '', '9']\n",
      "['General disturbance', 'disturbance', '', '10']\n",
      "['Joy riding', 'joy-riding', '', '11']\n",
      "['Litter', 'litter', '', '12']\n",
      "['Spiking of drinks', 'spiking-drinks', '', '13']\n",
      "['Indecent exposure/urinating in street', 'indecent-exposure', '', '14']\n",
      "['Unwanted sexual contact', 'unwanted-sexual-contact', '', '15']\n",
      "['Other', 'other', '', '16']\n",
      "['Unweighted base', 'unweighted-base', '', '17']\n"
     ]
    }
   ],
   "source": [
    "import urllib.request as request\n",
    "import csv\n",
    "r = request.urlopen('https://raw.githubusercontent.com/ONS-OpenData/ref_alcohol/master/codelists/alcohol-related-issue.csv').read().decode('utf8').split(\"\\n\")\n",
    "reader = csv.reader(r)\n",
    "for line in reader:\n",
    "    print(line)"
   ]
  },
  {
   "cell_type": "code",
   "execution_count": 15,
   "metadata": {
    "collapsed": true
   },
   "outputs": [],
   "source": [
    "import io\n",
    "import requests\n",
    "url=\"https://raw.githubusercontent.com/ONS-OpenData/ref_alcohol/master/codelists/alcohol-related-issue.csv\"\n",
    "s=requests.get(url).content\n",
    "c=pd.read_csv(io.StringIO(s.decode('utf-8')))"
   ]
  },
  {
   "cell_type": "code",
   "execution_count": 16,
   "metadata": {
    "collapsed": true
   },
   "outputs": [],
   "source": [
    "Final_table = pd.merge(new_table, c, how = 'left', left_on = 'Alcohol related issue1', right_on = 'Label')"
   ]
  },
  {
   "cell_type": "code",
   "execution_count": 17,
   "metadata": {
    "collapsed": true
   },
   "outputs": [],
   "source": [
    "Final_table.columns = ['Alcohol related issue' if x=='Notation' else x for x in Final_table.columns]"
   ]
  },
  {
   "cell_type": "code",
   "execution_count": 18,
   "metadata": {
    "collapsed": true
   },
   "outputs": [],
   "source": [
    "Final_table = Final_table[['Alcohol related issue','Measure Type','Value','Unit']]"
   ]
  },
  {
   "cell_type": "code",
   "execution_count": 19,
   "metadata": {
    "collapsed": true
   },
   "outputs": [],
   "source": [
    "destinationFolder = Path('out')\n",
    "destinationFolder.mkdir(exist_ok=True, parents=True)\n",
    "\n",
    "Final_table.to_csv(destinationFolder / ('table6.csv'), index = False)"
   ]
  },
  {
   "cell_type": "code",
   "execution_count": null,
   "metadata": {
    "collapsed": true
   },
   "outputs": [],
   "source": []
  }
 ],
 "metadata": {
  "kernelspec": {
   "display_name": "Python 3",
   "language": "python",
   "name": "python3"
  },
  "language_info": {
   "codemirror_mode": {
    "name": "ipython",
    "version": 3
   },
   "file_extension": ".py",
   "mimetype": "text/x-python",
   "name": "python",
   "nbconvert_exporter": "python",
   "pygments_lexer": "ipython3",
   "version": "3.6.3"
  }
 },
 "nbformat": 4,
 "nbformat_minor": 2
}
