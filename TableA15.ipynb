{
 "cells": [
  {
   "cell_type": "markdown",
   "metadata": {},
   "source": [
    "Table A15: Top three harms caused by alcohol and/or drug related issues in the local area (%)"
   ]
  },
  {
   "cell_type": "code",
   "execution_count": 1,
   "metadata": {
    "collapsed": true
   },
   "outputs": [],
   "source": [
    "from databaker.framework import *\n",
    "import pandas as pd "
   ]
  },
  {
   "cell_type": "code",
   "execution_count": 2,
   "metadata": {
    "collapsed": true
   },
   "outputs": [],
   "source": [
    "import requests\n",
    "from cachecontrol import CacheControl\n",
    "from cachecontrol.caches.file_cache import FileCache\n",
    "from cachecontrol.heuristics import LastModified\n",
    "from pathlib import Path\n",
    "\n",
    "session = CacheControl(requests.Session(),\n",
    "                       cache=FileCache('.cache'),\n",
    "                       heuristic=LastModified())\n",
    "\n",
    "sourceFolder = Path('in')\n",
    "sourceFolder.mkdir(exist_ok=True)\n",
    "\n",
    "inputURL = 'https://www.justice-ni.gov.uk/sites/default/files/publications/justice/ni-omnibus-survey-oct-2016-alcohol-drugs-tabular.xlsx'\n",
    "inputFile = sourceFolder / 'ni-omnibus-survey-oct-2016-alcohol-drugs-tabular.xlsx'\n",
    "Value = session.get(inputURL)\n",
    "with open(inputFile, 'wb') as f:\n",
    "  f.write(Value.content)"
   ]
  },
  {
   "cell_type": "markdown",
   "metadata": {},
   "source": [
    "https://www.justice-ni.gov.uk/sites/default/files/publications/justice/ni-omnibus-survey-oct-2016-alcohol-drugs-tabular.xlsx"
   ]
  },
  {
   "cell_type": "code",
   "execution_count": 3,
   "metadata": {},
   "outputs": [
    {
     "name": "stdout",
     "output_type": "stream",
     "text": [
      "Loading in\\ni-omnibus-survey-oct-2016-alcohol-drugs-tabular.xlsx which has size 191159 bytes\n",
      "Table names: ['Table A15']\n"
     ]
    }
   ],
   "source": [
    "tab = loadxlstabs(inputFile, sheetids='Table A15')[0]"
   ]
  },
  {
   "cell_type": "code",
   "execution_count": 4,
   "metadata": {
    "collapsed": true
   },
   "outputs": [],
   "source": [
    "observations = tab.excel_ref('B5').expand(DOWN).expand(RIGHT).is_not_blank()"
   ]
  },
  {
   "cell_type": "code",
   "execution_count": 5,
   "metadata": {
    "scrolled": true
   },
   "outputs": [
    {
     "data": {
      "text/plain": [
       "{<D12 0.054>, <D5 0.096>, <B7 0.124>, <C16 720.0>, <B13 0.003>, <C19 ' '>, <C9 0.079>, <D11 0.035>, <D7 0.142>, <D14 0.007>, <B5 0.571>, <D8 0.206>, <C6 0.185>, <B6 0.173>, <B8 0.046>, <D10 0.072>, <C8 0.128>, <C14 0.002>, <D9 0.196>, <C7 0.332>, <D13 0.018>, <D16 658.0>, <B10 0.027>, <D6 0.175>, <B12 0.005>, <C13 0.023>, <C12 0.026>, <B11 0.013>, <C11 0.026>, <C5 0.159>, <B9 0.036>, <B14 0.002>, <C10 0.042>, <B16 773.0>}"
      ]
     },
     "execution_count": 5,
     "metadata": {},
     "output_type": "execute_result"
    }
   ],
   "source": [
    "observations"
   ]
  },
  {
   "cell_type": "code",
   "execution_count": 6,
   "metadata": {
    "scrolled": true
   },
   "outputs": [
    {
     "data": {
      "text/plain": [
       "{<C3 'Secondary harm'>, <B3 'Primary harm'>, <D3 'Tertiary harm'>}"
      ]
     },
     "execution_count": 6,
     "metadata": {},
     "output_type": "execute_result"
    }
   ],
   "source": [
    "Lvh = tab.excel_ref('B3').expand(RIGHT).is_not_blank()\n",
    "Lvh"
   ]
  },
  {
   "cell_type": "code",
   "execution_count": 7,
   "metadata": {},
   "outputs": [
    {
     "data": {
      "text/plain": [
       "{<A12 'Loss of confidence in law enforcement agencies'>, <A19 '1. Results exclude \"don\\'t know\" and refusals.'>, <A5 'Anti-social behaviour'>, <A14 'Other'>, <A13 'Loss of trade for businesses'>, <A10 'Less money available for public services'>, <A7 'Crime in my local area'>, <A18 'Source: Northern Ireland Omnibus Survey, October 2016'>, <A16 'Unweighted base'>, <A9 'Violence in my local area'>, <A6 \"Damage to people's health\">, <A8 'Fear in my local area'>, <A11 'Lack of investment by businesses'>}"
      ]
     },
     "execution_count": 7,
     "metadata": {},
     "output_type": "execute_result"
    }
   ],
   "source": [
    "tph = tab.excel_ref('A5').expand(DOWN).is_not_blank()\n",
    "tph"
   ]
  },
  {
   "cell_type": "code",
   "execution_count": 8,
   "metadata": {
    "collapsed": true
   },
   "outputs": [],
   "source": [
    "Dimensions = [\n",
    "            HDim(Lvh,'Harm level',DIRECTLY,ABOVE),\n",
    "            HDim(tph,'Harm type1',DIRECTLY,LEFT),\n",
    "            HDimConst('Measure Type', 'Percent'),\n",
    "            HDimConst('Unit','People'),\n",
    "            ]"
   ]
  },
  {
   "cell_type": "code",
   "execution_count": 9,
   "metadata": {
    "collapsed": true
   },
   "outputs": [],
   "source": [
    "c1 = ConversionSegment(observations, Dimensions, processTIMEUNIT=True)\n",
    "# savepreviewhtml(c1)"
   ]
  },
  {
   "cell_type": "code",
   "execution_count": 10,
   "metadata": {},
   "outputs": [
    {
     "name": "stdout",
     "output_type": "stream",
     "text": [
      "\n"
     ]
    },
    {
     "data": {
      "text/html": [
       "<div>\n",
       "<style scoped>\n",
       "    .dataframe tbody tr th:only-of-type {\n",
       "        vertical-align: middle;\n",
       "    }\n",
       "\n",
       "    .dataframe tbody tr th {\n",
       "        vertical-align: top;\n",
       "    }\n",
       "\n",
       "    .dataframe thead th {\n",
       "        text-align: right;\n",
       "    }\n",
       "</style>\n",
       "<table border=\"1\" class=\"dataframe\">\n",
       "  <thead>\n",
       "    <tr style=\"text-align: right;\">\n",
       "      <th></th>\n",
       "      <th>OBS</th>\n",
       "      <th>DATAMARKER</th>\n",
       "      <th>Harm level</th>\n",
       "      <th>Harm type1</th>\n",
       "      <th>Measure Type</th>\n",
       "      <th>Unit</th>\n",
       "    </tr>\n",
       "  </thead>\n",
       "  <tbody>\n",
       "    <tr>\n",
       "      <th>0</th>\n",
       "      <td>0.571</td>\n",
       "      <td>NaN</td>\n",
       "      <td>Primary harm</td>\n",
       "      <td>Anti-social behaviour</td>\n",
       "      <td>Percent</td>\n",
       "      <td>People</td>\n",
       "    </tr>\n",
       "    <tr>\n",
       "      <th>1</th>\n",
       "      <td>0.159</td>\n",
       "      <td>NaN</td>\n",
       "      <td>Secondary harm</td>\n",
       "      <td>Anti-social behaviour</td>\n",
       "      <td>Percent</td>\n",
       "      <td>People</td>\n",
       "    </tr>\n",
       "    <tr>\n",
       "      <th>2</th>\n",
       "      <td>0.096</td>\n",
       "      <td>NaN</td>\n",
       "      <td>Tertiary harm</td>\n",
       "      <td>Anti-social behaviour</td>\n",
       "      <td>Percent</td>\n",
       "      <td>People</td>\n",
       "    </tr>\n",
       "    <tr>\n",
       "      <th>3</th>\n",
       "      <td>0.173</td>\n",
       "      <td>NaN</td>\n",
       "      <td>Primary harm</td>\n",
       "      <td>Damage to people's health</td>\n",
       "      <td>Percent</td>\n",
       "      <td>People</td>\n",
       "    </tr>\n",
       "    <tr>\n",
       "      <th>4</th>\n",
       "      <td>0.185</td>\n",
       "      <td>NaN</td>\n",
       "      <td>Secondary harm</td>\n",
       "      <td>Damage to people's health</td>\n",
       "      <td>Percent</td>\n",
       "      <td>People</td>\n",
       "    </tr>\n",
       "    <tr>\n",
       "      <th>5</th>\n",
       "      <td>0.175</td>\n",
       "      <td>NaN</td>\n",
       "      <td>Tertiary harm</td>\n",
       "      <td>Damage to people's health</td>\n",
       "      <td>Percent</td>\n",
       "      <td>People</td>\n",
       "    </tr>\n",
       "    <tr>\n",
       "      <th>6</th>\n",
       "      <td>0.124</td>\n",
       "      <td>NaN</td>\n",
       "      <td>Primary harm</td>\n",
       "      <td>Crime in my local area</td>\n",
       "      <td>Percent</td>\n",
       "      <td>People</td>\n",
       "    </tr>\n",
       "    <tr>\n",
       "      <th>7</th>\n",
       "      <td>0.332</td>\n",
       "      <td>NaN</td>\n",
       "      <td>Secondary harm</td>\n",
       "      <td>Crime in my local area</td>\n",
       "      <td>Percent</td>\n",
       "      <td>People</td>\n",
       "    </tr>\n",
       "    <tr>\n",
       "      <th>8</th>\n",
       "      <td>0.142</td>\n",
       "      <td>NaN</td>\n",
       "      <td>Tertiary harm</td>\n",
       "      <td>Crime in my local area</td>\n",
       "      <td>Percent</td>\n",
       "      <td>People</td>\n",
       "    </tr>\n",
       "    <tr>\n",
       "      <th>9</th>\n",
       "      <td>0.046</td>\n",
       "      <td>NaN</td>\n",
       "      <td>Primary harm</td>\n",
       "      <td>Fear in my local area</td>\n",
       "      <td>Percent</td>\n",
       "      <td>People</td>\n",
       "    </tr>\n",
       "    <tr>\n",
       "      <th>10</th>\n",
       "      <td>0.128</td>\n",
       "      <td>NaN</td>\n",
       "      <td>Secondary harm</td>\n",
       "      <td>Fear in my local area</td>\n",
       "      <td>Percent</td>\n",
       "      <td>People</td>\n",
       "    </tr>\n",
       "    <tr>\n",
       "      <th>11</th>\n",
       "      <td>0.206</td>\n",
       "      <td>NaN</td>\n",
       "      <td>Tertiary harm</td>\n",
       "      <td>Fear in my local area</td>\n",
       "      <td>Percent</td>\n",
       "      <td>People</td>\n",
       "    </tr>\n",
       "    <tr>\n",
       "      <th>12</th>\n",
       "      <td>0.036</td>\n",
       "      <td>NaN</td>\n",
       "      <td>Primary harm</td>\n",
       "      <td>Violence in my local area</td>\n",
       "      <td>Percent</td>\n",
       "      <td>People</td>\n",
       "    </tr>\n",
       "    <tr>\n",
       "      <th>13</th>\n",
       "      <td>0.079</td>\n",
       "      <td>NaN</td>\n",
       "      <td>Secondary harm</td>\n",
       "      <td>Violence in my local area</td>\n",
       "      <td>Percent</td>\n",
       "      <td>People</td>\n",
       "    </tr>\n",
       "    <tr>\n",
       "      <th>14</th>\n",
       "      <td>0.196</td>\n",
       "      <td>NaN</td>\n",
       "      <td>Tertiary harm</td>\n",
       "      <td>Violence in my local area</td>\n",
       "      <td>Percent</td>\n",
       "      <td>People</td>\n",
       "    </tr>\n",
       "    <tr>\n",
       "      <th>15</th>\n",
       "      <td>0.027</td>\n",
       "      <td>NaN</td>\n",
       "      <td>Primary harm</td>\n",
       "      <td>Less money available for public services</td>\n",
       "      <td>Percent</td>\n",
       "      <td>People</td>\n",
       "    </tr>\n",
       "    <tr>\n",
       "      <th>16</th>\n",
       "      <td>0.042</td>\n",
       "      <td>NaN</td>\n",
       "      <td>Secondary harm</td>\n",
       "      <td>Less money available for public services</td>\n",
       "      <td>Percent</td>\n",
       "      <td>People</td>\n",
       "    </tr>\n",
       "    <tr>\n",
       "      <th>17</th>\n",
       "      <td>0.072</td>\n",
       "      <td>NaN</td>\n",
       "      <td>Tertiary harm</td>\n",
       "      <td>Less money available for public services</td>\n",
       "      <td>Percent</td>\n",
       "      <td>People</td>\n",
       "    </tr>\n",
       "    <tr>\n",
       "      <th>18</th>\n",
       "      <td>0.013</td>\n",
       "      <td>NaN</td>\n",
       "      <td>Primary harm</td>\n",
       "      <td>Lack of investment by businesses</td>\n",
       "      <td>Percent</td>\n",
       "      <td>People</td>\n",
       "    </tr>\n",
       "    <tr>\n",
       "      <th>19</th>\n",
       "      <td>0.026</td>\n",
       "      <td>NaN</td>\n",
       "      <td>Secondary harm</td>\n",
       "      <td>Lack of investment by businesses</td>\n",
       "      <td>Percent</td>\n",
       "      <td>People</td>\n",
       "    </tr>\n",
       "    <tr>\n",
       "      <th>20</th>\n",
       "      <td>0.035</td>\n",
       "      <td>NaN</td>\n",
       "      <td>Tertiary harm</td>\n",
       "      <td>Lack of investment by businesses</td>\n",
       "      <td>Percent</td>\n",
       "      <td>People</td>\n",
       "    </tr>\n",
       "    <tr>\n",
       "      <th>21</th>\n",
       "      <td>0.005</td>\n",
       "      <td>NaN</td>\n",
       "      <td>Primary harm</td>\n",
       "      <td>Loss of confidence in law enforcement agencies</td>\n",
       "      <td>Percent</td>\n",
       "      <td>People</td>\n",
       "    </tr>\n",
       "    <tr>\n",
       "      <th>22</th>\n",
       "      <td>0.026</td>\n",
       "      <td>NaN</td>\n",
       "      <td>Secondary harm</td>\n",
       "      <td>Loss of confidence in law enforcement agencies</td>\n",
       "      <td>Percent</td>\n",
       "      <td>People</td>\n",
       "    </tr>\n",
       "    <tr>\n",
       "      <th>23</th>\n",
       "      <td>0.054</td>\n",
       "      <td>NaN</td>\n",
       "      <td>Tertiary harm</td>\n",
       "      <td>Loss of confidence in law enforcement agencies</td>\n",
       "      <td>Percent</td>\n",
       "      <td>People</td>\n",
       "    </tr>\n",
       "    <tr>\n",
       "      <th>24</th>\n",
       "      <td>0.003</td>\n",
       "      <td>NaN</td>\n",
       "      <td>Primary harm</td>\n",
       "      <td>Loss of trade for businesses</td>\n",
       "      <td>Percent</td>\n",
       "      <td>People</td>\n",
       "    </tr>\n",
       "    <tr>\n",
       "      <th>25</th>\n",
       "      <td>0.023</td>\n",
       "      <td>NaN</td>\n",
       "      <td>Secondary harm</td>\n",
       "      <td>Loss of trade for businesses</td>\n",
       "      <td>Percent</td>\n",
       "      <td>People</td>\n",
       "    </tr>\n",
       "    <tr>\n",
       "      <th>26</th>\n",
       "      <td>0.018</td>\n",
       "      <td>NaN</td>\n",
       "      <td>Tertiary harm</td>\n",
       "      <td>Loss of trade for businesses</td>\n",
       "      <td>Percent</td>\n",
       "      <td>People</td>\n",
       "    </tr>\n",
       "    <tr>\n",
       "      <th>27</th>\n",
       "      <td>0.002</td>\n",
       "      <td>NaN</td>\n",
       "      <td>Primary harm</td>\n",
       "      <td>Other</td>\n",
       "      <td>Percent</td>\n",
       "      <td>People</td>\n",
       "    </tr>\n",
       "    <tr>\n",
       "      <th>28</th>\n",
       "      <td>0.002</td>\n",
       "      <td>NaN</td>\n",
       "      <td>Secondary harm</td>\n",
       "      <td>Other</td>\n",
       "      <td>Percent</td>\n",
       "      <td>People</td>\n",
       "    </tr>\n",
       "    <tr>\n",
       "      <th>29</th>\n",
       "      <td>0.007</td>\n",
       "      <td>NaN</td>\n",
       "      <td>Tertiary harm</td>\n",
       "      <td>Other</td>\n",
       "      <td>Percent</td>\n",
       "      <td>People</td>\n",
       "    </tr>\n",
       "    <tr>\n",
       "      <th>30</th>\n",
       "      <td>773</td>\n",
       "      <td>NaN</td>\n",
       "      <td>Primary harm</td>\n",
       "      <td>Unweighted base</td>\n",
       "      <td>Percent</td>\n",
       "      <td>People</td>\n",
       "    </tr>\n",
       "    <tr>\n",
       "      <th>31</th>\n",
       "      <td>720</td>\n",
       "      <td>NaN</td>\n",
       "      <td>Secondary harm</td>\n",
       "      <td>Unweighted base</td>\n",
       "      <td>Percent</td>\n",
       "      <td>People</td>\n",
       "    </tr>\n",
       "    <tr>\n",
       "      <th>32</th>\n",
       "      <td>658</td>\n",
       "      <td>NaN</td>\n",
       "      <td>Tertiary harm</td>\n",
       "      <td>Unweighted base</td>\n",
       "      <td>Percent</td>\n",
       "      <td>People</td>\n",
       "    </tr>\n",
       "    <tr>\n",
       "      <th>33</th>\n",
       "      <td></td>\n",
       "      <td></td>\n",
       "      <td>Secondary harm</td>\n",
       "      <td>1. Results exclude \"don't know\" and refusals.</td>\n",
       "      <td>Percent</td>\n",
       "      <td>People</td>\n",
       "    </tr>\n",
       "  </tbody>\n",
       "</table>\n",
       "</div>"
      ],
      "text/plain": [
       "      OBS DATAMARKER      Harm level  \\\n",
       "0   0.571        NaN    Primary harm   \n",
       "1   0.159        NaN  Secondary harm   \n",
       "2   0.096        NaN   Tertiary harm   \n",
       "3   0.173        NaN    Primary harm   \n",
       "4   0.185        NaN  Secondary harm   \n",
       "5   0.175        NaN   Tertiary harm   \n",
       "6   0.124        NaN    Primary harm   \n",
       "7   0.332        NaN  Secondary harm   \n",
       "8   0.142        NaN   Tertiary harm   \n",
       "9   0.046        NaN    Primary harm   \n",
       "10  0.128        NaN  Secondary harm   \n",
       "11  0.206        NaN   Tertiary harm   \n",
       "12  0.036        NaN    Primary harm   \n",
       "13  0.079        NaN  Secondary harm   \n",
       "14  0.196        NaN   Tertiary harm   \n",
       "15  0.027        NaN    Primary harm   \n",
       "16  0.042        NaN  Secondary harm   \n",
       "17  0.072        NaN   Tertiary harm   \n",
       "18  0.013        NaN    Primary harm   \n",
       "19  0.026        NaN  Secondary harm   \n",
       "20  0.035        NaN   Tertiary harm   \n",
       "21  0.005        NaN    Primary harm   \n",
       "22  0.026        NaN  Secondary harm   \n",
       "23  0.054        NaN   Tertiary harm   \n",
       "24  0.003        NaN    Primary harm   \n",
       "25  0.023        NaN  Secondary harm   \n",
       "26  0.018        NaN   Tertiary harm   \n",
       "27  0.002        NaN    Primary harm   \n",
       "28  0.002        NaN  Secondary harm   \n",
       "29  0.007        NaN   Tertiary harm   \n",
       "30    773        NaN    Primary harm   \n",
       "31    720        NaN  Secondary harm   \n",
       "32    658        NaN   Tertiary harm   \n",
       "33                    Secondary harm   \n",
       "\n",
       "                                        Harm type1 Measure Type    Unit  \n",
       "0                            Anti-social behaviour      Percent  People  \n",
       "1                            Anti-social behaviour      Percent  People  \n",
       "2                            Anti-social behaviour      Percent  People  \n",
       "3                        Damage to people's health      Percent  People  \n",
       "4                        Damage to people's health      Percent  People  \n",
       "5                        Damage to people's health      Percent  People  \n",
       "6                           Crime in my local area      Percent  People  \n",
       "7                           Crime in my local area      Percent  People  \n",
       "8                           Crime in my local area      Percent  People  \n",
       "9                            Fear in my local area      Percent  People  \n",
       "10                           Fear in my local area      Percent  People  \n",
       "11                           Fear in my local area      Percent  People  \n",
       "12                       Violence in my local area      Percent  People  \n",
       "13                       Violence in my local area      Percent  People  \n",
       "14                       Violence in my local area      Percent  People  \n",
       "15        Less money available for public services      Percent  People  \n",
       "16        Less money available for public services      Percent  People  \n",
       "17        Less money available for public services      Percent  People  \n",
       "18                Lack of investment by businesses      Percent  People  \n",
       "19                Lack of investment by businesses      Percent  People  \n",
       "20                Lack of investment by businesses      Percent  People  \n",
       "21  Loss of confidence in law enforcement agencies      Percent  People  \n",
       "22  Loss of confidence in law enforcement agencies      Percent  People  \n",
       "23  Loss of confidence in law enforcement agencies      Percent  People  \n",
       "24                    Loss of trade for businesses      Percent  People  \n",
       "25                    Loss of trade for businesses      Percent  People  \n",
       "26                    Loss of trade for businesses      Percent  People  \n",
       "27                                           Other      Percent  People  \n",
       "28                                           Other      Percent  People  \n",
       "29                                           Other      Percent  People  \n",
       "30                                 Unweighted base      Percent  People  \n",
       "31                                 Unweighted base      Percent  People  \n",
       "32                                 Unweighted base      Percent  People  \n",
       "33   1. Results exclude \"don't know\" and refusals.      Percent  People  "
      ]
     },
     "execution_count": 10,
     "metadata": {},
     "output_type": "execute_result"
    }
   ],
   "source": [
    "new_table = c1.topandas()\n",
    "new_table"
   ]
  },
  {
   "cell_type": "code",
   "execution_count": 11,
   "metadata": {
    "collapsed": true
   },
   "outputs": [],
   "source": [
    "new_table.columns = ['Value' if x=='OBS' else x for x in new_table.columns]"
   ]
  },
  {
   "cell_type": "code",
   "execution_count": 12,
   "metadata": {},
   "outputs": [
    {
     "data": {
      "text/plain": [
       "Value           object\n",
       "DATAMARKER      object\n",
       "Harm level      object\n",
       "Harm type1      object\n",
       "Measure Type    object\n",
       "Unit            object\n",
       "dtype: object"
      ]
     },
     "execution_count": 12,
     "metadata": {},
     "output_type": "execute_result"
    }
   ],
   "source": [
    "new_table.dtypes"
   ]
  },
  {
   "cell_type": "code",
   "execution_count": 13,
   "metadata": {},
   "outputs": [
    {
     "data": {
      "text/html": [
       "<div>\n",
       "<style scoped>\n",
       "    .dataframe tbody tr th:only-of-type {\n",
       "        vertical-align: middle;\n",
       "    }\n",
       "\n",
       "    .dataframe tbody tr th {\n",
       "        vertical-align: top;\n",
       "    }\n",
       "\n",
       "    .dataframe thead th {\n",
       "        text-align: right;\n",
       "    }\n",
       "</style>\n",
       "<table border=\"1\" class=\"dataframe\">\n",
       "  <thead>\n",
       "    <tr style=\"text-align: right;\">\n",
       "      <th></th>\n",
       "      <th>Value</th>\n",
       "      <th>DATAMARKER</th>\n",
       "      <th>Harm level</th>\n",
       "      <th>Harm type1</th>\n",
       "      <th>Measure Type</th>\n",
       "      <th>Unit</th>\n",
       "    </tr>\n",
       "  </thead>\n",
       "  <tbody>\n",
       "    <tr>\n",
       "      <th>29</th>\n",
       "      <td>0.007</td>\n",
       "      <td>NaN</td>\n",
       "      <td>Tertiary harm</td>\n",
       "      <td>Other</td>\n",
       "      <td>Percent</td>\n",
       "      <td>People</td>\n",
       "    </tr>\n",
       "    <tr>\n",
       "      <th>30</th>\n",
       "      <td>773</td>\n",
       "      <td>NaN</td>\n",
       "      <td>Primary harm</td>\n",
       "      <td>Unweighted base</td>\n",
       "      <td>Percent</td>\n",
       "      <td>People</td>\n",
       "    </tr>\n",
       "    <tr>\n",
       "      <th>31</th>\n",
       "      <td>720</td>\n",
       "      <td>NaN</td>\n",
       "      <td>Secondary harm</td>\n",
       "      <td>Unweighted base</td>\n",
       "      <td>Percent</td>\n",
       "      <td>People</td>\n",
       "    </tr>\n",
       "    <tr>\n",
       "      <th>32</th>\n",
       "      <td>658</td>\n",
       "      <td>NaN</td>\n",
       "      <td>Tertiary harm</td>\n",
       "      <td>Unweighted base</td>\n",
       "      <td>Percent</td>\n",
       "      <td>People</td>\n",
       "    </tr>\n",
       "    <tr>\n",
       "      <th>33</th>\n",
       "      <td></td>\n",
       "      <td></td>\n",
       "      <td>Secondary harm</td>\n",
       "      <td>1. Results exclude \"don't know\" and refusals.</td>\n",
       "      <td>Percent</td>\n",
       "      <td>People</td>\n",
       "    </tr>\n",
       "  </tbody>\n",
       "</table>\n",
       "</div>"
      ],
      "text/plain": [
       "    Value DATAMARKER      Harm level  \\\n",
       "29  0.007        NaN   Tertiary harm   \n",
       "30    773        NaN    Primary harm   \n",
       "31    720        NaN  Secondary harm   \n",
       "32    658        NaN   Tertiary harm   \n",
       "33                    Secondary harm   \n",
       "\n",
       "                                       Harm type1 Measure Type    Unit  \n",
       "29                                          Other      Percent  People  \n",
       "30                                Unweighted base      Percent  People  \n",
       "31                                Unweighted base      Percent  People  \n",
       "32                                Unweighted base      Percent  People  \n",
       "33  1. Results exclude \"don't know\" and refusals.      Percent  People  "
      ]
     },
     "execution_count": 13,
     "metadata": {},
     "output_type": "execute_result"
    }
   ],
   "source": [
    "new_table.tail(5)"
   ]
  },
  {
   "cell_type": "code",
   "execution_count": 14,
   "metadata": {},
   "outputs": [
    {
     "data": {
      "text/html": [
       "<div>\n",
       "<style scoped>\n",
       "    .dataframe tbody tr th:only-of-type {\n",
       "        vertical-align: middle;\n",
       "    }\n",
       "\n",
       "    .dataframe tbody tr th {\n",
       "        vertical-align: top;\n",
       "    }\n",
       "\n",
       "    .dataframe thead th {\n",
       "        text-align: right;\n",
       "    }\n",
       "</style>\n",
       "<table border=\"1\" class=\"dataframe\">\n",
       "  <thead>\n",
       "    <tr style=\"text-align: right;\">\n",
       "      <th></th>\n",
       "      <th>Value</th>\n",
       "      <th>DATAMARKER</th>\n",
       "      <th>Harm level</th>\n",
       "      <th>Harm type1</th>\n",
       "      <th>Measure Type</th>\n",
       "      <th>Unit</th>\n",
       "    </tr>\n",
       "  </thead>\n",
       "  <tbody>\n",
       "    <tr>\n",
       "      <th>0</th>\n",
       "      <td>0.571</td>\n",
       "      <td>NaN</td>\n",
       "      <td>Primary harm</td>\n",
       "      <td>Anti-social behaviour</td>\n",
       "      <td>Percent</td>\n",
       "      <td>People</td>\n",
       "    </tr>\n",
       "    <tr>\n",
       "      <th>1</th>\n",
       "      <td>0.159</td>\n",
       "      <td>NaN</td>\n",
       "      <td>Secondary harm</td>\n",
       "      <td>Anti-social behaviour</td>\n",
       "      <td>Percent</td>\n",
       "      <td>People</td>\n",
       "    </tr>\n",
       "    <tr>\n",
       "      <th>2</th>\n",
       "      <td>0.096</td>\n",
       "      <td>NaN</td>\n",
       "      <td>Tertiary harm</td>\n",
       "      <td>Anti-social behaviour</td>\n",
       "      <td>Percent</td>\n",
       "      <td>People</td>\n",
       "    </tr>\n",
       "    <tr>\n",
       "      <th>3</th>\n",
       "      <td>0.173</td>\n",
       "      <td>NaN</td>\n",
       "      <td>Primary harm</td>\n",
       "      <td>Damage to people's health</td>\n",
       "      <td>Percent</td>\n",
       "      <td>People</td>\n",
       "    </tr>\n",
       "    <tr>\n",
       "      <th>4</th>\n",
       "      <td>0.185</td>\n",
       "      <td>NaN</td>\n",
       "      <td>Secondary harm</td>\n",
       "      <td>Damage to people's health</td>\n",
       "      <td>Percent</td>\n",
       "      <td>People</td>\n",
       "    </tr>\n",
       "  </tbody>\n",
       "</table>\n",
       "</div>"
      ],
      "text/plain": [
       "   Value DATAMARKER      Harm level                 Harm type1 Measure Type  \\\n",
       "0  0.571        NaN    Primary harm      Anti-social behaviour      Percent   \n",
       "1  0.159        NaN  Secondary harm      Anti-social behaviour      Percent   \n",
       "2  0.096        NaN   Tertiary harm      Anti-social behaviour      Percent   \n",
       "3  0.173        NaN    Primary harm  Damage to people's health      Percent   \n",
       "4  0.185        NaN  Secondary harm  Damage to people's health      Percent   \n",
       "\n",
       "     Unit  \n",
       "0  People  \n",
       "1  People  \n",
       "2  People  \n",
       "3  People  \n",
       "4  People  "
      ]
     },
     "execution_count": 14,
     "metadata": {},
     "output_type": "execute_result"
    }
   ],
   "source": [
    "new_table.head()"
   ]
  },
  {
   "cell_type": "code",
   "execution_count": 15,
   "metadata": {
    "collapsed": true
   },
   "outputs": [],
   "source": [
    "new_table['Value'] = pd.to_numeric(new_table['Value'], errors='coerce')"
   ]
  },
  {
   "cell_type": "code",
   "execution_count": 16,
   "metadata": {
    "collapsed": true
   },
   "outputs": [],
   "source": [
    "new_table = new_table[new_table['Value'].notnull() ]"
   ]
  },
  {
   "cell_type": "code",
   "execution_count": 17,
   "metadata": {},
   "outputs": [
    {
     "name": "stderr",
     "output_type": "stream",
     "text": [
      "C:\\ProgramData\\Anaconda3\\lib\\site-packages\\ipykernel_launcher.py:1: SettingWithCopyWarning: \n",
      "A value is trying to be set on a copy of a slice from a DataFrame.\n",
      "Try using .loc[row_indexer,col_indexer] = value instead\n",
      "\n",
      "See the caveats in the documentation: http://pandas.pydata.org/pandas-docs/stable/indexing.html#indexing-view-versus-copy\n",
      "  \"\"\"Entry point for launching an IPython kernel.\n"
     ]
    }
   ],
   "source": [
    "new_table['Value'] = new_table['Value'].apply(str)"
   ]
  },
  {
   "cell_type": "code",
   "execution_count": 18,
   "metadata": {},
   "outputs": [
    {
     "name": "stderr",
     "output_type": "stream",
     "text": [
      "C:\\ProgramData\\Anaconda3\\lib\\site-packages\\ipykernel_launcher.py:8: SettingWithCopyWarning: \n",
      "A value is trying to be set on a copy of a slice from a DataFrame.\n",
      "Try using .loc[row_indexer,col_indexer] = value instead\n",
      "\n",
      "See the caveats in the documentation: http://pandas.pydata.org/pandas-docs/stable/indexing.html#indexing-view-versus-copy\n",
      "  \n"
     ]
    }
   ],
   "source": [
    "def user_perc(x,y):\n",
    "    \n",
    "    if str(x) == 'Unweighted base':\n",
    "        return 'Count'\n",
    "    else:\n",
    "        return y\n",
    "    \n",
    "new_table['Measure Type'] = new_table.apply(lambda row: user_perc(row['Harm type1'],row['Measure Type']), axis = 1)"
   ]
  },
  {
   "cell_type": "code",
   "execution_count": 19,
   "metadata": {},
   "outputs": [
    {
     "name": "stdout",
     "output_type": "stream",
     "text": [
      "['Label', 'Notation', 'Parent Notation', 'Sort Priority']\n",
      "['Anti-social behaviour', 'asb', '', '1']\n",
      "[\"Damage to people's health\", 'damage-to-health', '', '2']\n",
      "['Crime in my local area', 'crime', '', '3']\n",
      "['Fear in my local area', 'fear', '', '4']\n",
      "['Violence in my local area', 'violence', '', '5']\n",
      "['Less money available for public services', 'less-money', '', '6']\n",
      "['Lack of investment by businesses', 'lack-of-investment', '', '7']\n",
      "['Loss of confidence in law enforcement agencies', 'loss-of-confidence', '', '8']\n",
      "['Loss of trade for businesses', 'loss-of-trade', '', '9']\n",
      "['Other', 'other', '', '10']\n",
      "['Unweighted base', 'unweighted-base', '', '11']\n"
     ]
    }
   ],
   "source": [
    "import urllib.request as request\n",
    "import csv\n",
    "r = request.urlopen('https://raw.githubusercontent.com/ONS-OpenData/ref_alcohol/master/codelists/harm-type.csv').read().decode('utf8').split(\"\\n\")\n",
    "reader = csv.reader(r)\n",
    "for line in reader:\n",
    "    print(line)"
   ]
  },
  {
   "cell_type": "code",
   "execution_count": 20,
   "metadata": {
    "collapsed": true
   },
   "outputs": [],
   "source": [
    "import io\n",
    "import requests\n",
    "url=\"https://raw.githubusercontent.com/ONS-OpenData/ref_alcohol/master/codelists/harm-type.csv\"\n",
    "s=requests.get(url).content\n",
    "c=pd.read_csv(io.StringIO(s.decode('utf-8')))"
   ]
  },
  {
   "cell_type": "code",
   "execution_count": 21,
   "metadata": {
    "collapsed": true
   },
   "outputs": [],
   "source": [
    "Final_table = pd.merge(new_table, c, how = 'left', left_on = 'Harm type1', right_on = 'Label')"
   ]
  },
  {
   "cell_type": "code",
   "execution_count": 22,
   "metadata": {
    "collapsed": true
   },
   "outputs": [],
   "source": [
    "Final_table.columns = ['Harm type' if x=='Notation' else x for x in Final_table.columns]"
   ]
  },
  {
   "cell_type": "code",
   "execution_count": 23,
   "metadata": {
    "collapsed": true
   },
   "outputs": [],
   "source": [
    "Final_table['Harm level'] = Final_table['Harm level'].map(\n",
    "    lambda x: {\n",
    "        'Primary harm' : 'primary', \n",
    "        'Secondary harm' : 'secondary',\n",
    "        'Tertiary harm': 'tertiary'       \n",
    "        }.get(x, x))"
   ]
  },
  {
   "cell_type": "code",
   "execution_count": 24,
   "metadata": {
    "collapsed": true
   },
   "outputs": [],
   "source": [
    "Final_table = Final_table[['Harm level','Harm type','Measure Type','Value','Unit']]"
   ]
  },
  {
   "cell_type": "code",
   "execution_count": 25,
   "metadata": {
    "collapsed": true
   },
   "outputs": [],
   "source": [
    "destinationFolder = Path('out')\n",
    "destinationFolder.mkdir(exist_ok=True, parents=True)\n",
    "\n",
    "Final_table.to_csv(destinationFolder / ('table15.csv'), index = False)"
   ]
  }
 ],
 "metadata": {
  "kernelspec": {
   "display_name": "Python 3",
   "language": "python",
   "name": "python3"
  },
  "language_info": {
   "codemirror_mode": {
    "name": "ipython",
    "version": 3
   },
   "file_extension": ".py",
   "mimetype": "text/x-python",
   "name": "python",
   "nbconvert_exporter": "python",
   "pygments_lexer": "ipython3",
   "version": "3.6.3"
  }
 },
 "nbformat": 4,
 "nbformat_minor": 2
}
